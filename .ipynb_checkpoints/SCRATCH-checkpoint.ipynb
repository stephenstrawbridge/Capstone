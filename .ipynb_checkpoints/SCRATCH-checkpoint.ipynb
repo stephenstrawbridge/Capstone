{
 "cells": [
  {
   "cell_type": "code",
   "execution_count": null,
   "metadata": {},
   "outputs": [],
   "source": [
    "#Drop ratios deemed invaluable to models in subsequent notebooks\n",
    "ratios_to_drop = ['Pronoun-ratio', 'Ppron-ratio', 'I-ratio', 'We-ratio', 'You-ratio', 'SheHe-ratio', 'They-ratio',\n",
    "                 'Ipron-ratio', 'Article-ratio', 'Prep-ratio', 'Auxverb-ratio', 'Adverb-ratio', 'Conj-ratio',\n",
    "                 'Compare-ratio', 'Number-ratio', 'Quant-ratio', 'Affect-ratio', 'Posemo-ratio', 'Negemo-ratio',\n",
    "                 'Anx-ratio', 'CogProc-ratio', 'Insight-ratio', 'Cause-ratio', 'Discrep-ratio', 'Tentat-ratio',\n",
    "                 'Certain-ratio', 'Differ-ratio', 'Percept-ratio', 'See-ratio', 'Hear-ratio', 'Feel-ratio', 'Bio-ratio',\n",
    "                 'Body-ratio', 'Health-ratio', 'Ingest-ratio', 'Drives-ratio', 'Affiliation-ratio', 'Achieve-ratio',\n",
    "                 'Power-ratio', 'Relativ-ratio', 'Motion-ratio', 'Space-ratio', 'Time-ratio', 'Work-ratio', 'Leisure-ratio',\n",
    "                 'Home-ratio', 'Netspeak-ratio', 'Assent-ratio', 'Nonflu-ratio']\n",
    "\n",
    "#Run for loop to remove ratios above from final ratios list\n",
    "for ratio in ratios_to_drop:\n",
    "    ratio_cols.remove(ratio)\n",
    "\n",
    "#Check out final number of ratios used\n",
    "len(ratio_cols)"
   ]
  }
 ],
 "metadata": {
  "kernelspec": {
   "display_name": "Python 3",
   "language": "python",
   "name": "python3"
  },
  "language_info": {
   "codemirror_mode": {
    "name": "ipython",
    "version": 3
   },
   "file_extension": ".py",
   "mimetype": "text/x-python",
   "name": "python",
   "nbconvert_exporter": "python",
   "pygments_lexer": "ipython3",
   "version": "3.7.9"
  }
 },
 "nbformat": 4,
 "nbformat_minor": 4
}
