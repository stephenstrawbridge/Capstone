{
 "cells": [
  {
   "cell_type": "markdown",
   "metadata": {},
   "source": [
    "<img src='./images/film_logo.jpeg' style='float:left; width:200px;height:200px'/>\n",
    "\n",
    "#  <h1><center> Capstone Project: Film Linguistics </center></h1>\n",
    "#  Notebook 2 - Exploratory Data Analysis (EDA)\n",
    "####  Stephen Strawbridge, Cohort #1019"
   ]
  },
  {
   "cell_type": "code",
   "execution_count": 1,
   "metadata": {},
   "outputs": [],
   "source": [
    "#Import necessary packages\n",
    "import pandas as pd\n",
    "import numpy as np\n",
    "import seaborn as sns\n",
    "import matplotlib.pyplot as plt"
   ]
  },
  {
   "cell_type": "code",
   "execution_count": 2,
   "metadata": {},
   "outputs": [],
   "source": [
    "#Read in cleaned dataset\n",
    "df = pd.read_csv('./CSVs/cleaned_df.csv');"
   ]
  },
  {
   "cell_type": "code",
   "execution_count": 3,
   "metadata": {},
   "outputs": [
    {
     "data": {
      "text/html": [
       "<div>\n",
       "<style scoped>\n",
       "    .dataframe tbody tr th:only-of-type {\n",
       "        vertical-align: middle;\n",
       "    }\n",
       "\n",
       "    .dataframe tbody tr th {\n",
       "        vertical-align: top;\n",
       "    }\n",
       "\n",
       "    .dataframe thead th {\n",
       "        text-align: right;\n",
       "    }\n",
       "</style>\n",
       "<table border=\"1\" class=\"dataframe\">\n",
       "  <thead>\n",
       "    <tr style=\"text-align: right;\">\n",
       "      <th></th>\n",
       "      <th>MovieID</th>\n",
       "      <th>IDSubtitleFile</th>\n",
       "      <th>IDSubtitle</th>\n",
       "      <th>MovieName</th>\n",
       "      <th>MovieYear</th>\n",
       "      <th>SubDownloadsCnt</th>\n",
       "      <th>TotalWords</th>\n",
       "      <th>HarmVirtue</th>\n",
       "      <th>HarmVirtue-ratio</th>\n",
       "      <th>HarmVice</th>\n",
       "      <th>...</th>\n",
       "      <th>Relig-ratio</th>\n",
       "      <th>Death</th>\n",
       "      <th>Death-ratio</th>\n",
       "      <th>Informal</th>\n",
       "      <th>Informal-ratio</th>\n",
       "      <th>Swear</th>\n",
       "      <th>Swear-ratio</th>\n",
       "      <th>Filler</th>\n",
       "      <th>Filler-ratio</th>\n",
       "      <th>years_old</th>\n",
       "    </tr>\n",
       "  </thead>\n",
       "  <tbody>\n",
       "    <tr>\n",
       "      <th>0</th>\n",
       "      <td>6247</td>\n",
       "      <td>141146</td>\n",
       "      <td>102946</td>\n",
       "      <td>Jan Dara</td>\n",
       "      <td>2001</td>\n",
       "      <td>4094</td>\n",
       "      <td>4352</td>\n",
       "      <td>3</td>\n",
       "      <td>0.000689</td>\n",
       "      <td>10</td>\n",
       "      <td>...</td>\n",
       "      <td>0.002757</td>\n",
       "      <td>14</td>\n",
       "      <td>0.003217</td>\n",
       "      <td>67</td>\n",
       "      <td>0.015395</td>\n",
       "      <td>34</td>\n",
       "      <td>0.007813</td>\n",
       "      <td>1</td>\n",
       "      <td>0.000230</td>\n",
       "      <td>20</td>\n",
       "    </tr>\n",
       "    <tr>\n",
       "      <th>1</th>\n",
       "      <td>70811</td>\n",
       "      <td>1953655263</td>\n",
       "      <td>5113335</td>\n",
       "      <td>Pocahontas</td>\n",
       "      <td>1995</td>\n",
       "      <td>81</td>\n",
       "      <td>6315</td>\n",
       "      <td>8</td>\n",
       "      <td>0.001267</td>\n",
       "      <td>39</td>\n",
       "      <td>...</td>\n",
       "      <td>0.003959</td>\n",
       "      <td>25</td>\n",
       "      <td>0.003959</td>\n",
       "      <td>68</td>\n",
       "      <td>0.010768</td>\n",
       "      <td>2</td>\n",
       "      <td>0.000317</td>\n",
       "      <td>0</td>\n",
       "      <td>0.000000</td>\n",
       "      <td>26</td>\n",
       "    </tr>\n",
       "    <tr>\n",
       "      <th>2</th>\n",
       "      <td>38254</td>\n",
       "      <td>1952519756</td>\n",
       "      <td>3855025</td>\n",
       "      <td>Space Chimps</td>\n",
       "      <td>2008</td>\n",
       "      <td>45</td>\n",
       "      <td>7435</td>\n",
       "      <td>10</td>\n",
       "      <td>0.001345</td>\n",
       "      <td>8</td>\n",
       "      <td>...</td>\n",
       "      <td>0.002824</td>\n",
       "      <td>17</td>\n",
       "      <td>0.002286</td>\n",
       "      <td>340</td>\n",
       "      <td>0.045730</td>\n",
       "      <td>5</td>\n",
       "      <td>0.000672</td>\n",
       "      <td>62</td>\n",
       "      <td>0.008339</td>\n",
       "      <td>13</td>\n",
       "    </tr>\n",
       "    <tr>\n",
       "      <th>3</th>\n",
       "      <td>150</td>\n",
       "      <td>1953609111</td>\n",
       "      <td>5067084</td>\n",
       "      <td>A Bug's Life</td>\n",
       "      <td>1998</td>\n",
       "      <td>213</td>\n",
       "      <td>7932</td>\n",
       "      <td>8</td>\n",
       "      <td>0.001009</td>\n",
       "      <td>12</td>\n",
       "      <td>...</td>\n",
       "      <td>0.001009</td>\n",
       "      <td>18</td>\n",
       "      <td>0.002269</td>\n",
       "      <td>461</td>\n",
       "      <td>0.058119</td>\n",
       "      <td>8</td>\n",
       "      <td>0.001009</td>\n",
       "      <td>24</td>\n",
       "      <td>0.003026</td>\n",
       "      <td>23</td>\n",
       "    </tr>\n",
       "    <tr>\n",
       "      <th>4</th>\n",
       "      <td>4150</td>\n",
       "      <td>1953020828</td>\n",
       "      <td>4460230</td>\n",
       "      <td>Babe</td>\n",
       "      <td>1995</td>\n",
       "      <td>186</td>\n",
       "      <td>6176</td>\n",
       "      <td>4</td>\n",
       "      <td>0.000648</td>\n",
       "      <td>12</td>\n",
       "      <td>...</td>\n",
       "      <td>0.003400</td>\n",
       "      <td>10</td>\n",
       "      <td>0.001619</td>\n",
       "      <td>171</td>\n",
       "      <td>0.027688</td>\n",
       "      <td>5</td>\n",
       "      <td>0.000810</td>\n",
       "      <td>7</td>\n",
       "      <td>0.001133</td>\n",
       "      <td>26</td>\n",
       "    </tr>\n",
       "  </tbody>\n",
       "</table>\n",
       "<p>5 rows × 108 columns</p>\n",
       "</div>"
      ],
      "text/plain": [
       "   MovieID  IDSubtitleFile  IDSubtitle     MovieName  MovieYear  \\\n",
       "0     6247          141146      102946      Jan Dara       2001   \n",
       "1    70811      1953655263     5113335    Pocahontas       1995   \n",
       "2    38254      1952519756     3855025  Space Chimps       2008   \n",
       "3      150      1953609111     5067084  A Bug's Life       1998   \n",
       "4     4150      1953020828     4460230          Babe       1995   \n",
       "\n",
       "   SubDownloadsCnt  TotalWords  HarmVirtue  HarmVirtue-ratio  HarmVice  ...  \\\n",
       "0             4094        4352           3          0.000689        10  ...   \n",
       "1               81        6315           8          0.001267        39  ...   \n",
       "2               45        7435          10          0.001345         8  ...   \n",
       "3              213        7932           8          0.001009        12  ...   \n",
       "4              186        6176           4          0.000648        12  ...   \n",
       "\n",
       "   Relig-ratio  Death  Death-ratio  Informal  Informal-ratio  Swear  \\\n",
       "0     0.002757     14     0.003217        67        0.015395     34   \n",
       "1     0.003959     25     0.003959        68        0.010768      2   \n",
       "2     0.002824     17     0.002286       340        0.045730      5   \n",
       "3     0.001009     18     0.002269       461        0.058119      8   \n",
       "4     0.003400     10     0.001619       171        0.027688      5   \n",
       "\n",
       "   Swear-ratio  Filler  Filler-ratio  years_old  \n",
       "0     0.007813       1      0.000230         20  \n",
       "1     0.000317       0      0.000000         26  \n",
       "2     0.000672      62      0.008339         13  \n",
       "3     0.001009      24      0.003026         23  \n",
       "4     0.000810       7      0.001133         26  \n",
       "\n",
       "[5 rows x 108 columns]"
      ]
     },
     "execution_count": 3,
     "metadata": {},
     "output_type": "execute_result"
    }
   ],
   "source": [
    "df = df.drop(columns='Unnamed: 0')\n",
    "df.head()"
   ]
  },
  {
   "cell_type": "markdown",
   "metadata": {},
   "source": [
    "## Section 1 - Basic EDA on Entire Dataset\n",
    "---"
   ]
  },
  {
   "cell_type": "markdown",
   "metadata": {},
   "source": [
    "#### Because we are specifically looking at the linguistic characteristic ratios, we will create column list of all ratio features.  The total initial number of ratios is 86.  The majority of the EDA in this notebook will be related to these ratio columns."
   ]
  },
  {
   "cell_type": "code",
   "execution_count": 4,
   "metadata": {},
   "outputs": [],
   "source": [
    "#Create ratio_cols list of all ratio features\n",
    "ratio_cols = [col for col in df.columns if 'ratio' in col]"
   ]
  },
  {
   "cell_type": "code",
   "execution_count": 5,
   "metadata": {},
   "outputs": [
    {
     "data": {
      "text/html": [
       "<div>\n",
       "<style scoped>\n",
       "    .dataframe tbody tr th:only-of-type {\n",
       "        vertical-align: middle;\n",
       "    }\n",
       "\n",
       "    .dataframe tbody tr th {\n",
       "        vertical-align: top;\n",
       "    }\n",
       "\n",
       "    .dataframe thead th {\n",
       "        text-align: right;\n",
       "    }\n",
       "</style>\n",
       "<table border=\"1\" class=\"dataframe\">\n",
       "  <thead>\n",
       "    <tr style=\"text-align: right;\">\n",
       "      <th></th>\n",
       "      <th>HarmVirtue-ratio</th>\n",
       "      <th>HarmVice-ratio</th>\n",
       "      <th>FairnessVirtue-ratio</th>\n",
       "      <th>FairnessVice-ratio</th>\n",
       "      <th>IngroupVirtue-ratio</th>\n",
       "      <th>IngroupVice-ratio</th>\n",
       "      <th>AuthorityVirtue-ratio</th>\n",
       "      <th>AuthorityVice-ratio</th>\n",
       "      <th>PurityVirtue-ratio</th>\n",
       "      <th>PurityVice-ratio</th>\n",
       "      <th>...</th>\n",
       "      <th>Risk-ratio</th>\n",
       "      <th>FocusPast-ratio</th>\n",
       "      <th>FocusPresent-ratio</th>\n",
       "      <th>FocusFuture-ratio</th>\n",
       "      <th>Money-ratio</th>\n",
       "      <th>Relig-ratio</th>\n",
       "      <th>Death-ratio</th>\n",
       "      <th>Informal-ratio</th>\n",
       "      <th>Swear-ratio</th>\n",
       "      <th>Filler-ratio</th>\n",
       "    </tr>\n",
       "  </thead>\n",
       "  <tbody>\n",
       "    <tr>\n",
       "      <th>count</th>\n",
       "      <td>9970.000000</td>\n",
       "      <td>9970.000000</td>\n",
       "      <td>9970.000000</td>\n",
       "      <td>9970.000000</td>\n",
       "      <td>9970.000000</td>\n",
       "      <td>9970.000000</td>\n",
       "      <td>9970.000000</td>\n",
       "      <td>9970.000000</td>\n",
       "      <td>9970.000000</td>\n",
       "      <td>9970.000000</td>\n",
       "      <td>...</td>\n",
       "      <td>9970.000000</td>\n",
       "      <td>9970.000000</td>\n",
       "      <td>9970.000000</td>\n",
       "      <td>9970.000000</td>\n",
       "      <td>9970.000000</td>\n",
       "      <td>9970.000000</td>\n",
       "      <td>9970.000000</td>\n",
       "      <td>9970.000000</td>\n",
       "      <td>9970.000000</td>\n",
       "      <td>9970.000000</td>\n",
       "    </tr>\n",
       "    <tr>\n",
       "      <th>mean</th>\n",
       "      <td>0.001420</td>\n",
       "      <td>0.002714</td>\n",
       "      <td>0.000354</td>\n",
       "      <td>0.000039</td>\n",
       "      <td>0.001296</td>\n",
       "      <td>0.000353</td>\n",
       "      <td>0.002712</td>\n",
       "      <td>0.000226</td>\n",
       "      <td>0.000635</td>\n",
       "      <td>0.000763</td>\n",
       "      <td>...</td>\n",
       "      <td>0.005839</td>\n",
       "      <td>0.037598</td>\n",
       "      <td>0.161700</td>\n",
       "      <td>0.019104</td>\n",
       "      <td>0.005499</td>\n",
       "      <td>0.004426</td>\n",
       "      <td>0.003844</td>\n",
       "      <td>0.030608</td>\n",
       "      <td>0.006596</td>\n",
       "      <td>0.000512</td>\n",
       "    </tr>\n",
       "    <tr>\n",
       "      <th>std</th>\n",
       "      <td>0.001024</td>\n",
       "      <td>0.002288</td>\n",
       "      <td>0.000392</td>\n",
       "      <td>0.000113</td>\n",
       "      <td>0.001037</td>\n",
       "      <td>0.000581</td>\n",
       "      <td>0.002197</td>\n",
       "      <td>0.000422</td>\n",
       "      <td>0.000729</td>\n",
       "      <td>0.000767</td>\n",
       "      <td>...</td>\n",
       "      <td>0.002203</td>\n",
       "      <td>0.010193</td>\n",
       "      <td>0.025856</td>\n",
       "      <td>0.005105</td>\n",
       "      <td>0.004121</td>\n",
       "      <td>0.004215</td>\n",
       "      <td>0.003290</td>\n",
       "      <td>0.018556</td>\n",
       "      <td>0.007484</td>\n",
       "      <td>0.000645</td>\n",
       "    </tr>\n",
       "    <tr>\n",
       "      <th>min</th>\n",
       "      <td>0.000000</td>\n",
       "      <td>0.000000</td>\n",
       "      <td>0.000000</td>\n",
       "      <td>0.000000</td>\n",
       "      <td>0.000000</td>\n",
       "      <td>0.000000</td>\n",
       "      <td>0.000000</td>\n",
       "      <td>0.000000</td>\n",
       "      <td>0.000000</td>\n",
       "      <td>0.000000</td>\n",
       "      <td>...</td>\n",
       "      <td>0.000000</td>\n",
       "      <td>0.000000</td>\n",
       "      <td>0.000000</td>\n",
       "      <td>0.000000</td>\n",
       "      <td>0.000000</td>\n",
       "      <td>0.000000</td>\n",
       "      <td>0.000000</td>\n",
       "      <td>0.000000</td>\n",
       "      <td>0.000000</td>\n",
       "      <td>0.000000</td>\n",
       "    </tr>\n",
       "    <tr>\n",
       "      <th>25%</th>\n",
       "      <td>0.000741</td>\n",
       "      <td>0.001214</td>\n",
       "      <td>0.000076</td>\n",
       "      <td>0.000000</td>\n",
       "      <td>0.000648</td>\n",
       "      <td>0.000000</td>\n",
       "      <td>0.001249</td>\n",
       "      <td>0.000000</td>\n",
       "      <td>0.000220</td>\n",
       "      <td>0.000281</td>\n",
       "      <td>...</td>\n",
       "      <td>0.004348</td>\n",
       "      <td>0.031407</td>\n",
       "      <td>0.151315</td>\n",
       "      <td>0.016063</td>\n",
       "      <td>0.002814</td>\n",
       "      <td>0.002006</td>\n",
       "      <td>0.001440</td>\n",
       "      <td>0.015881</td>\n",
       "      <td>0.001540</td>\n",
       "      <td>0.000114</td>\n",
       "    </tr>\n",
       "    <tr>\n",
       "      <th>50%</th>\n",
       "      <td>0.001181</td>\n",
       "      <td>0.002058</td>\n",
       "      <td>0.000263</td>\n",
       "      <td>0.000000</td>\n",
       "      <td>0.001063</td>\n",
       "      <td>0.000160</td>\n",
       "      <td>0.002117</td>\n",
       "      <td>0.000104</td>\n",
       "      <td>0.000462</td>\n",
       "      <td>0.000579</td>\n",
       "      <td>...</td>\n",
       "      <td>0.005544</td>\n",
       "      <td>0.036386</td>\n",
       "      <td>0.164709</td>\n",
       "      <td>0.018863</td>\n",
       "      <td>0.004484</td>\n",
       "      <td>0.003414</td>\n",
       "      <td>0.002906</td>\n",
       "      <td>0.027255</td>\n",
       "      <td>0.004135</td>\n",
       "      <td>0.000338</td>\n",
       "    </tr>\n",
       "    <tr>\n",
       "      <th>75%</th>\n",
       "      <td>0.001833</td>\n",
       "      <td>0.003511</td>\n",
       "      <td>0.000509</td>\n",
       "      <td>0.000000</td>\n",
       "      <td>0.001678</td>\n",
       "      <td>0.000434</td>\n",
       "      <td>0.003519</td>\n",
       "      <td>0.000285</td>\n",
       "      <td>0.000826</td>\n",
       "      <td>0.001010</td>\n",
       "      <td>...</td>\n",
       "      <td>0.007050</td>\n",
       "      <td>0.042403</td>\n",
       "      <td>0.176980</td>\n",
       "      <td>0.021957</td>\n",
       "      <td>0.006998</td>\n",
       "      <td>0.005378</td>\n",
       "      <td>0.005369</td>\n",
       "      <td>0.042229</td>\n",
       "      <td>0.008898</td>\n",
       "      <td>0.000703</td>\n",
       "    </tr>\n",
       "    <tr>\n",
       "      <th>max</th>\n",
       "      <td>0.011148</td>\n",
       "      <td>0.040720</td>\n",
       "      <td>0.005163</td>\n",
       "      <td>0.002892</td>\n",
       "      <td>0.015763</td>\n",
       "      <td>0.008185</td>\n",
       "      <td>0.031020</td>\n",
       "      <td>0.010648</td>\n",
       "      <td>0.012353</td>\n",
       "      <td>0.014379</td>\n",
       "      <td>...</td>\n",
       "      <td>0.019489</td>\n",
       "      <td>0.113709</td>\n",
       "      <td>0.263410</td>\n",
       "      <td>0.051393</td>\n",
       "      <td>0.056244</td>\n",
       "      <td>0.055570</td>\n",
       "      <td>0.028395</td>\n",
       "      <td>0.210165</td>\n",
       "      <td>0.074622</td>\n",
       "      <td>0.015058</td>\n",
       "    </tr>\n",
       "  </tbody>\n",
       "</table>\n",
       "<p>8 rows × 35 columns</p>\n",
       "</div>"
      ],
      "text/plain": [
       "       HarmVirtue-ratio  HarmVice-ratio  FairnessVirtue-ratio  \\\n",
       "count       9970.000000     9970.000000           9970.000000   \n",
       "mean           0.001420        0.002714              0.000354   \n",
       "std            0.001024        0.002288              0.000392   \n",
       "min            0.000000        0.000000              0.000000   \n",
       "25%            0.000741        0.001214              0.000076   \n",
       "50%            0.001181        0.002058              0.000263   \n",
       "75%            0.001833        0.003511              0.000509   \n",
       "max            0.011148        0.040720              0.005163   \n",
       "\n",
       "       FairnessVice-ratio  IngroupVirtue-ratio  IngroupVice-ratio  \\\n",
       "count         9970.000000          9970.000000        9970.000000   \n",
       "mean             0.000039             0.001296           0.000353   \n",
       "std              0.000113             0.001037           0.000581   \n",
       "min              0.000000             0.000000           0.000000   \n",
       "25%              0.000000             0.000648           0.000000   \n",
       "50%              0.000000             0.001063           0.000160   \n",
       "75%              0.000000             0.001678           0.000434   \n",
       "max              0.002892             0.015763           0.008185   \n",
       "\n",
       "       AuthorityVirtue-ratio  AuthorityVice-ratio  PurityVirtue-ratio  \\\n",
       "count            9970.000000          9970.000000         9970.000000   \n",
       "mean                0.002712             0.000226            0.000635   \n",
       "std                 0.002197             0.000422            0.000729   \n",
       "min                 0.000000             0.000000            0.000000   \n",
       "25%                 0.001249             0.000000            0.000220   \n",
       "50%                 0.002117             0.000104            0.000462   \n",
       "75%                 0.003519             0.000285            0.000826   \n",
       "max                 0.031020             0.010648            0.012353   \n",
       "\n",
       "       PurityVice-ratio  ...   Risk-ratio  FocusPast-ratio  \\\n",
       "count       9970.000000  ...  9970.000000      9970.000000   \n",
       "mean           0.000763  ...     0.005839         0.037598   \n",
       "std            0.000767  ...     0.002203         0.010193   \n",
       "min            0.000000  ...     0.000000         0.000000   \n",
       "25%            0.000281  ...     0.004348         0.031407   \n",
       "50%            0.000579  ...     0.005544         0.036386   \n",
       "75%            0.001010  ...     0.007050         0.042403   \n",
       "max            0.014379  ...     0.019489         0.113709   \n",
       "\n",
       "       FocusPresent-ratio  FocusFuture-ratio  Money-ratio  Relig-ratio  \\\n",
       "count         9970.000000        9970.000000  9970.000000  9970.000000   \n",
       "mean             0.161700           0.019104     0.005499     0.004426   \n",
       "std              0.025856           0.005105     0.004121     0.004215   \n",
       "min              0.000000           0.000000     0.000000     0.000000   \n",
       "25%              0.151315           0.016063     0.002814     0.002006   \n",
       "50%              0.164709           0.018863     0.004484     0.003414   \n",
       "75%              0.176980           0.021957     0.006998     0.005378   \n",
       "max              0.263410           0.051393     0.056244     0.055570   \n",
       "\n",
       "       Death-ratio  Informal-ratio  Swear-ratio  Filler-ratio  \n",
       "count  9970.000000     9970.000000  9970.000000   9970.000000  \n",
       "mean      0.003844        0.030608     0.006596      0.000512  \n",
       "std       0.003290        0.018556     0.007484      0.000645  \n",
       "min       0.000000        0.000000     0.000000      0.000000  \n",
       "25%       0.001440        0.015881     0.001540      0.000114  \n",
       "50%       0.002906        0.027255     0.004135      0.000338  \n",
       "75%       0.005369        0.042229     0.008898      0.000703  \n",
       "max       0.028395        0.210165     0.074622      0.015058  \n",
       "\n",
       "[8 rows x 35 columns]"
      ]
     },
     "execution_count": 5,
     "metadata": {},
     "output_type": "execute_result"
    }
   ],
   "source": [
    "#Convert columns to floats (they are currently object types)\n",
    "df[ratio_cols] = df[ratio_cols].astype(float)\n",
    "\n",
    "#Create df for all ratio features and explore summary stats\n",
    "ratio_df = df[ratio_cols]\n",
    "ratio_df.describe()"
   ]
  },
  {
   "cell_type": "code",
   "execution_count": 6,
   "metadata": {},
   "outputs": [
    {
     "data": {
      "text/html": [
       "<div>\n",
       "<style scoped>\n",
       "    .dataframe tbody tr th:only-of-type {\n",
       "        vertical-align: middle;\n",
       "    }\n",
       "\n",
       "    .dataframe tbody tr th {\n",
       "        vertical-align: top;\n",
       "    }\n",
       "\n",
       "    .dataframe thead th {\n",
       "        text-align: right;\n",
       "    }\n",
       "</style>\n",
       "<table border=\"1\" class=\"dataframe\">\n",
       "  <thead>\n",
       "    <tr style=\"text-align: right;\">\n",
       "      <th></th>\n",
       "      <th>TotalWords</th>\n",
       "    </tr>\n",
       "  </thead>\n",
       "  <tbody>\n",
       "    <tr>\n",
       "      <th>count</th>\n",
       "      <td>9970.000000</td>\n",
       "    </tr>\n",
       "    <tr>\n",
       "      <th>mean</th>\n",
       "      <td>6803.083250</td>\n",
       "    </tr>\n",
       "    <tr>\n",
       "      <th>std</th>\n",
       "      <td>3008.596738</td>\n",
       "    </tr>\n",
       "    <tr>\n",
       "      <th>min</th>\n",
       "      <td>1006.000000</td>\n",
       "    </tr>\n",
       "    <tr>\n",
       "      <th>25%</th>\n",
       "      <td>4663.000000</td>\n",
       "    </tr>\n",
       "    <tr>\n",
       "      <th>50%</th>\n",
       "      <td>6439.000000</td>\n",
       "    </tr>\n",
       "    <tr>\n",
       "      <th>75%</th>\n",
       "      <td>8529.750000</td>\n",
       "    </tr>\n",
       "    <tr>\n",
       "      <th>max</th>\n",
       "      <td>30063.000000</td>\n",
       "    </tr>\n",
       "  </tbody>\n",
       "</table>\n",
       "</div>"
      ],
      "text/plain": [
       "         TotalWords\n",
       "count   9970.000000\n",
       "mean    6803.083250\n",
       "std     3008.596738\n",
       "min     1006.000000\n",
       "25%     4663.000000\n",
       "50%     6439.000000\n",
       "75%     8529.750000\n",
       "max    30063.000000"
      ]
     },
     "execution_count": 6,
     "metadata": {},
     "output_type": "execute_result"
    }
   ],
   "source": [
    "#Compare above statistics to the total word count summary statistics\n",
    "df[['TotalWords']].describe()"
   ]
  },
  {
   "cell_type": "markdown",
   "metadata": {},
   "source": [
    "### Find the 20 ratios with the highest mean"
   ]
  },
  {
   "cell_type": "code",
   "execution_count": 7,
   "metadata": {},
   "outputs": [
    {
     "data": {
      "text/html": [
       "<div>\n",
       "<style scoped>\n",
       "    .dataframe tbody tr th:only-of-type {\n",
       "        vertical-align: middle;\n",
       "    }\n",
       "\n",
       "    .dataframe tbody tr th {\n",
       "        vertical-align: top;\n",
       "    }\n",
       "\n",
       "    .dataframe thead th {\n",
       "        text-align: right;\n",
       "    }\n",
       "</style>\n",
       "<table border=\"1\" class=\"dataframe\">\n",
       "  <thead>\n",
       "    <tr style=\"text-align: right;\">\n",
       "      <th></th>\n",
       "      <th>ratio</th>\n",
       "    </tr>\n",
       "  </thead>\n",
       "  <tbody>\n",
       "    <tr>\n",
       "      <th>FocusPresent-ratio</th>\n",
       "      <td>0.161700</td>\n",
       "    </tr>\n",
       "    <tr>\n",
       "      <th>Social-ratio</th>\n",
       "      <td>0.153052</td>\n",
       "    </tr>\n",
       "    <tr>\n",
       "      <th>Positive-ratio</th>\n",
       "      <td>0.047059</td>\n",
       "    </tr>\n",
       "    <tr>\n",
       "      <th>Negative-ratio</th>\n",
       "      <td>0.039711</td>\n",
       "    </tr>\n",
       "    <tr>\n",
       "      <th>FocusPast-ratio</th>\n",
       "      <td>0.037598</td>\n",
       "    </tr>\n",
       "    <tr>\n",
       "      <th>Adj-ratio</th>\n",
       "      <td>0.035674</td>\n",
       "    </tr>\n",
       "    <tr>\n",
       "      <th>Informal-ratio</th>\n",
       "      <td>0.030608</td>\n",
       "    </tr>\n",
       "    <tr>\n",
       "      <th>Negate-ratio</th>\n",
       "      <td>0.030459</td>\n",
       "    </tr>\n",
       "    <tr>\n",
       "      <th>Interrog-ratio</th>\n",
       "      <td>0.024370</td>\n",
       "    </tr>\n",
       "    <tr>\n",
       "      <th>Male-ratio</th>\n",
       "      <td>0.023831</td>\n",
       "    </tr>\n",
       "    <tr>\n",
       "      <th>FocusFuture-ratio</th>\n",
       "      <td>0.019104</td>\n",
       "    </tr>\n",
       "    <tr>\n",
       "      <th>Reward-ratio</th>\n",
       "      <td>0.018026</td>\n",
       "    </tr>\n",
       "    <tr>\n",
       "      <th>Female-ratio</th>\n",
       "      <td>0.012043</td>\n",
       "    </tr>\n",
       "    <tr>\n",
       "      <th>Anger-ratio</th>\n",
       "      <td>0.010243</td>\n",
       "    </tr>\n",
       "    <tr>\n",
       "      <th>Family-ratio</th>\n",
       "      <td>0.008076</td>\n",
       "    </tr>\n",
       "    <tr>\n",
       "      <th>Swear-ratio</th>\n",
       "      <td>0.006596</td>\n",
       "    </tr>\n",
       "    <tr>\n",
       "      <th>Risk-ratio</th>\n",
       "      <td>0.005839</td>\n",
       "    </tr>\n",
       "    <tr>\n",
       "      <th>Money-ratio</th>\n",
       "      <td>0.005499</td>\n",
       "    </tr>\n",
       "    <tr>\n",
       "      <th>Sad-ratio</th>\n",
       "      <td>0.004888</td>\n",
       "    </tr>\n",
       "    <tr>\n",
       "      <th>MoralityGeneral-ratio</th>\n",
       "      <td>0.004612</td>\n",
       "    </tr>\n",
       "  </tbody>\n",
       "</table>\n",
       "</div>"
      ],
      "text/plain": [
       "                          ratio\n",
       "FocusPresent-ratio     0.161700\n",
       "Social-ratio           0.153052\n",
       "Positive-ratio         0.047059\n",
       "Negative-ratio         0.039711\n",
       "FocusPast-ratio        0.037598\n",
       "Adj-ratio              0.035674\n",
       "Informal-ratio         0.030608\n",
       "Negate-ratio           0.030459\n",
       "Interrog-ratio         0.024370\n",
       "Male-ratio             0.023831\n",
       "FocusFuture-ratio      0.019104\n",
       "Reward-ratio           0.018026\n",
       "Female-ratio           0.012043\n",
       "Anger-ratio            0.010243\n",
       "Family-ratio           0.008076\n",
       "Swear-ratio            0.006596\n",
       "Risk-ratio             0.005839\n",
       "Money-ratio            0.005499\n",
       "Sad-ratio              0.004888\n",
       "MoralityGeneral-ratio  0.004612"
      ]
     },
     "execution_count": 7,
     "metadata": {},
     "output_type": "execute_result"
    }
   ],
   "source": [
    "#Create dataframe with 20 ratios with highest average mean\n",
    "high_avg_mean = ratio_df.mean().sort_values(ascending=False).head(20)\n",
    "high_avg_mean = pd.DataFrame(high_avg_mean)\n",
    "high_avg_mean = high_avg_mean.rename(columns={0:'ratio'})\n",
    "high_avg_mean"
   ]
  },
  {
   "cell_type": "code",
   "execution_count": 8,
   "metadata": {},
   "outputs": [
    {
     "data": {
      "image/png": "[encoded data removed]",
      "text/plain": [
       "<Figure size 432x288 with 1 Axes>"
      ]
     },
     "metadata": {
      "needs_background": "light"
     },
     "output_type": "display_data"
    }
   ],
   "source": [
    "high_avg_mean.plot.barh();"
   ]
  },
  {
   "cell_type": "markdown",
   "metadata": {},
   "source": [
    "### Find the 20 ratios with the lowest mean"
   ]
  },
  {
   "cell_type": "code",
   "execution_count": 9,
   "metadata": {},
   "outputs": [
    {
     "data": {
      "text/html": [
       "<div>\n",
       "<style scoped>\n",
       "    .dataframe tbody tr th:only-of-type {\n",
       "        vertical-align: middle;\n",
       "    }\n",
       "\n",
       "    .dataframe tbody tr th {\n",
       "        vertical-align: top;\n",
       "    }\n",
       "\n",
       "    .dataframe thead th {\n",
       "        text-align: right;\n",
       "    }\n",
       "</style>\n",
       "<table border=\"1\" class=\"dataframe\">\n",
       "  <thead>\n",
       "    <tr style=\"text-align: right;\">\n",
       "      <th></th>\n",
       "      <th>ratio</th>\n",
       "    </tr>\n",
       "  </thead>\n",
       "  <tbody>\n",
       "    <tr>\n",
       "      <th>FairnessVice-ratio</th>\n",
       "      <td>0.000039</td>\n",
       "    </tr>\n",
       "    <tr>\n",
       "      <th>AuthorityVice-ratio</th>\n",
       "      <td>0.000226</td>\n",
       "    </tr>\n",
       "    <tr>\n",
       "      <th>IngroupVice-ratio</th>\n",
       "      <td>0.000353</td>\n",
       "    </tr>\n",
       "    <tr>\n",
       "      <th>FairnessVirtue-ratio</th>\n",
       "      <td>0.000354</td>\n",
       "    </tr>\n",
       "    <tr>\n",
       "      <th>Filler-ratio</th>\n",
       "      <td>0.000512</td>\n",
       "    </tr>\n",
       "    <tr>\n",
       "      <th>PurityVirtue-ratio</th>\n",
       "      <td>0.000635</td>\n",
       "    </tr>\n",
       "    <tr>\n",
       "      <th>PurityVice-ratio</th>\n",
       "      <td>0.000763</td>\n",
       "    </tr>\n",
       "    <tr>\n",
       "      <th>IngroupVirtue-ratio</th>\n",
       "      <td>0.001296</td>\n",
       "    </tr>\n",
       "    <tr>\n",
       "      <th>HarmVirtue-ratio</th>\n",
       "      <td>0.001420</td>\n",
       "    </tr>\n",
       "    <tr>\n",
       "      <th>AuthorityVirtue-ratio</th>\n",
       "      <td>0.002712</td>\n",
       "    </tr>\n",
       "    <tr>\n",
       "      <th>HarmVice-ratio</th>\n",
       "      <td>0.002714</td>\n",
       "    </tr>\n",
       "    <tr>\n",
       "      <th>Sexual-ratio</th>\n",
       "      <td>0.003332</td>\n",
       "    </tr>\n",
       "    <tr>\n",
       "      <th>Death-ratio</th>\n",
       "      <td>0.003844</td>\n",
       "    </tr>\n",
       "    <tr>\n",
       "      <th>Friend-ratio</th>\n",
       "      <td>0.004356</td>\n",
       "    </tr>\n",
       "    <tr>\n",
       "      <th>Relig-ratio</th>\n",
       "      <td>0.004426</td>\n",
       "    </tr>\n",
       "    <tr>\n",
       "      <th>MoralityGeneral-ratio</th>\n",
       "      <td>0.004612</td>\n",
       "    </tr>\n",
       "    <tr>\n",
       "      <th>Sad-ratio</th>\n",
       "      <td>0.004888</td>\n",
       "    </tr>\n",
       "    <tr>\n",
       "      <th>Money-ratio</th>\n",
       "      <td>0.005499</td>\n",
       "    </tr>\n",
       "    <tr>\n",
       "      <th>Risk-ratio</th>\n",
       "      <td>0.005839</td>\n",
       "    </tr>\n",
       "    <tr>\n",
       "      <th>Swear-ratio</th>\n",
       "      <td>0.006596</td>\n",
       "    </tr>\n",
       "  </tbody>\n",
       "</table>\n",
       "</div>"
      ],
      "text/plain": [
       "                          ratio\n",
       "FairnessVice-ratio     0.000039\n",
       "AuthorityVice-ratio    0.000226\n",
       "IngroupVice-ratio      0.000353\n",
       "FairnessVirtue-ratio   0.000354\n",
       "Filler-ratio           0.000512\n",
       "PurityVirtue-ratio     0.000635\n",
       "PurityVice-ratio       0.000763\n",
       "IngroupVirtue-ratio    0.001296\n",
       "HarmVirtue-ratio       0.001420\n",
       "AuthorityVirtue-ratio  0.002712\n",
       "HarmVice-ratio         0.002714\n",
       "Sexual-ratio           0.003332\n",
       "Death-ratio            0.003844\n",
       "Friend-ratio           0.004356\n",
       "Relig-ratio            0.004426\n",
       "MoralityGeneral-ratio  0.004612\n",
       "Sad-ratio              0.004888\n",
       "Money-ratio            0.005499\n",
       "Risk-ratio             0.005839\n",
       "Swear-ratio            0.006596"
      ]
     },
     "execution_count": 9,
     "metadata": {},
     "output_type": "execute_result"
    }
   ],
   "source": [
    "#Create dataframe with 20 ratios with highest average mean\n",
    "low_avg_mean = ratio_df.mean().sort_values(ascending=True).head(20)\n",
    "low_avg_mean = pd.DataFrame(low_avg_mean)\n",
    "low_avg_mean = low_avg_mean.rename(columns={0:'ratio'})\n",
    "low_avg_mean"
   ]
  },
  {
   "cell_type": "code",
   "execution_count": 10,
   "metadata": {},
   "outputs": [
    {
     "data": {
      "image/png": "[encoded data removed]",
      "text/plain": [
       "<Figure size 432x288 with 1 Axes>"
      ]
     },
     "metadata": {
      "needs_background": "light"
     },
     "output_type": "display_data"
    }
   ],
   "source": [
    "low_avg_mean.plot.barh();"
   ]
  },
  {
   "cell_type": "markdown",
   "metadata": {},
   "source": [
    "## Section 2 - EDA according to Film Genre\n",
    "---"
   ]
  },
  {
   "cell_type": "code",
   "execution_count": 11,
   "metadata": {},
   "outputs": [],
   "source": [
    "#First, create list of all the genres to iterate through\n",
    "genres = ['drama', 'comedy', 'romance', 'action', 'crime', 'mystery', 'western', 'animation', 'thriller',\n",
    "         'biography', 'adventure', 'horror', 'fantasy', 'musical', 'war', 'sport', 'documentary', 'family',\n",
    "         'short', 'music', 'history', 'adult', 'news']"
   ]
  },
  {
   "cell_type": "code",
   "execution_count": 12,
   "metadata": {},
   "outputs": [],
   "source": [
    "#Create dictionary of genres so that each genre dataframe can be easily accessible for reference\n",
    "genre_dfs = {}\n",
    "for genre in genres:\n",
    "    genre_dfs[genre] = df[df[genre]==1]"
   ]
  },
  {
   "cell_type": "code",
   "execution_count": 13,
   "metadata": {},
   "outputs": [
    {
     "data": {
      "text/html": [
       "<div>\n",
       "<style scoped>\n",
       "    .dataframe tbody tr th:only-of-type {\n",
       "        vertical-align: middle;\n",
       "    }\n",
       "\n",
       "    .dataframe tbody tr th {\n",
       "        vertical-align: top;\n",
       "    }\n",
       "\n",
       "    .dataframe thead th {\n",
       "        text-align: right;\n",
       "    }\n",
       "</style>\n",
       "<table border=\"1\" class=\"dataframe\">\n",
       "  <thead>\n",
       "    <tr style=\"text-align: right;\">\n",
       "      <th></th>\n",
       "      <th>Count</th>\n",
       "    </tr>\n",
       "  </thead>\n",
       "  <tbody>\n",
       "    <tr>\n",
       "      <th>drama</th>\n",
       "      <td>5421</td>\n",
       "    </tr>\n",
       "    <tr>\n",
       "      <th>comedy</th>\n",
       "      <td>3671</td>\n",
       "    </tr>\n",
       "    <tr>\n",
       "      <th>action</th>\n",
       "      <td>1967</td>\n",
       "    </tr>\n",
       "    <tr>\n",
       "      <th>thriller</th>\n",
       "      <td>1763</td>\n",
       "    </tr>\n",
       "    <tr>\n",
       "      <th>romance</th>\n",
       "      <td>1752</td>\n",
       "    </tr>\n",
       "    <tr>\n",
       "      <th>crime</th>\n",
       "      <td>1655</td>\n",
       "    </tr>\n",
       "    <tr>\n",
       "      <th>adventure</th>\n",
       "      <td>1136</td>\n",
       "    </tr>\n",
       "    <tr>\n",
       "      <th>horror</th>\n",
       "      <td>1122</td>\n",
       "    </tr>\n",
       "    <tr>\n",
       "      <th>mystery</th>\n",
       "      <td>738</td>\n",
       "    </tr>\n",
       "    <tr>\n",
       "      <th>fantasy</th>\n",
       "      <td>597</td>\n",
       "    </tr>\n",
       "    <tr>\n",
       "      <th>family</th>\n",
       "      <td>549</td>\n",
       "    </tr>\n",
       "    <tr>\n",
       "      <th>biography</th>\n",
       "      <td>491</td>\n",
       "    </tr>\n",
       "    <tr>\n",
       "      <th>animation</th>\n",
       "      <td>450</td>\n",
       "    </tr>\n",
       "    <tr>\n",
       "      <th>documentary</th>\n",
       "      <td>431</td>\n",
       "    </tr>\n",
       "    <tr>\n",
       "      <th>music</th>\n",
       "      <td>321</td>\n",
       "    </tr>\n",
       "    <tr>\n",
       "      <th>history</th>\n",
       "      <td>306</td>\n",
       "    </tr>\n",
       "    <tr>\n",
       "      <th>war</th>\n",
       "      <td>227</td>\n",
       "    </tr>\n",
       "    <tr>\n",
       "      <th>sport</th>\n",
       "      <td>221</td>\n",
       "    </tr>\n",
       "    <tr>\n",
       "      <th>musical</th>\n",
       "      <td>145</td>\n",
       "    </tr>\n",
       "    <tr>\n",
       "      <th>western</th>\n",
       "      <td>57</td>\n",
       "    </tr>\n",
       "    <tr>\n",
       "      <th>short</th>\n",
       "      <td>23</td>\n",
       "    </tr>\n",
       "    <tr>\n",
       "      <th>adult</th>\n",
       "      <td>18</td>\n",
       "    </tr>\n",
       "    <tr>\n",
       "      <th>news</th>\n",
       "      <td>5</td>\n",
       "    </tr>\n",
       "  </tbody>\n",
       "</table>\n",
       "</div>"
      ],
      "text/plain": [
       "             Count\n",
       "drama         5421\n",
       "comedy        3671\n",
       "action        1967\n",
       "thriller      1763\n",
       "romance       1752\n",
       "crime         1655\n",
       "adventure     1136\n",
       "horror        1122\n",
       "mystery        738\n",
       "fantasy        597\n",
       "family         549\n",
       "biography      491\n",
       "animation      450\n",
       "documentary    431\n",
       "music          321\n",
       "history        306\n",
       "war            227\n",
       "sport          221\n",
       "musical        145\n",
       "western         57\n",
       "short           23\n",
       "adult           18\n",
       "news             5"
      ]
     },
     "execution_count": 13,
     "metadata": {},
     "output_type": "execute_result"
    }
   ],
   "source": [
    "#Look at the number of genres seen in dataframe - some of these genres may be combined later\n",
    "genres_total = df[genres].sum()\n",
    "genres_total = pd.DataFrame(genres_total)\n",
    "genres_total = genres_total.rename(columns={0:'Count'})\n",
    "genres_total.sort_values(by='Count', ascending=False)"
   ]
  },
  {
   "cell_type": "code",
   "execution_count": 14,
   "metadata": {},
   "outputs": [],
   "source": [
    "#Due to the large number of genres, we will explore top ratios per most commonly seen genres in dataset\n",
    "#First, create dataframes for each genre, along with their respective ratios\n",
    "\n",
    "df_drama = df.loc[(df['drama'] == 1)]\n",
    "drama_ratios = df_drama[ratio_cols]\n",
    "\n",
    "df_comedy = df.loc[(df['comedy'] == 1)]\n",
    "comedy_ratios = df_comedy[ratio_cols]\n",
    "\n",
    "df_romance = df.loc[(df['romance'] == 1)]\n",
    "romance_ratios = df_romance[ratio_cols]\n",
    "\n",
    "df_action = df.loc[(df['action'] == 1)]\n",
    "action_ratios = df_action[ratio_cols]\n",
    "\n",
    "df_horror = df.loc[(df['horror'] == 1)]\n",
    "horror_ratios = df_horror[ratio_cols]"
   ]
  },
  {
   "cell_type": "code",
   "execution_count": 15,
   "metadata": {},
   "outputs": [],
   "source": [
    "#Define function that returns the greatest, on average, linguistic ratios\n",
    "def find_highest_ratios(df):\n",
    "    high_avg_mean = df.mean().sort_values(ascending=False).head(10)\n",
    "    high_avg_mean = pd.DataFrame(high_avg_mean)\n",
    "    high_avg_mean = high_avg_mean.rename(columns={0:'ratio'})\n",
    "    return high_avg_mean"
   ]
  },
  {
   "cell_type": "code",
   "execution_count": 16,
   "metadata": {},
   "outputs": [
    {
     "data": {
      "text/html": [
       "<div>\n",
       "<style scoped>\n",
       "    .dataframe tbody tr th:only-of-type {\n",
       "        vertical-align: middle;\n",
       "    }\n",
       "\n",
       "    .dataframe tbody tr th {\n",
       "        vertical-align: top;\n",
       "    }\n",
       "\n",
       "    .dataframe thead th {\n",
       "        text-align: right;\n",
       "    }\n",
       "</style>\n",
       "<table border=\"1\" class=\"dataframe\">\n",
       "  <thead>\n",
       "    <tr style=\"text-align: right;\">\n",
       "      <th></th>\n",
       "      <th>ratio</th>\n",
       "    </tr>\n",
       "  </thead>\n",
       "  <tbody>\n",
       "    <tr>\n",
       "      <th>FocusPresent-ratio</th>\n",
       "      <td>0.164057</td>\n",
       "    </tr>\n",
       "    <tr>\n",
       "      <th>Social-ratio</th>\n",
       "      <td>0.157996</td>\n",
       "    </tr>\n",
       "    <tr>\n",
       "      <th>Positive-ratio</th>\n",
       "      <td>0.047158</td>\n",
       "    </tr>\n",
       "    <tr>\n",
       "      <th>Negative-ratio</th>\n",
       "      <td>0.038628</td>\n",
       "    </tr>\n",
       "    <tr>\n",
       "      <th>FocusPast-ratio</th>\n",
       "      <td>0.038413</td>\n",
       "    </tr>\n",
       "    <tr>\n",
       "      <th>Adj-ratio</th>\n",
       "      <td>0.035537</td>\n",
       "    </tr>\n",
       "    <tr>\n",
       "      <th>Negate-ratio</th>\n",
       "      <td>0.031386</td>\n",
       "    </tr>\n",
       "    <tr>\n",
       "      <th>Informal-ratio</th>\n",
       "      <td>0.028622</td>\n",
       "    </tr>\n",
       "    <tr>\n",
       "      <th>Interrog-ratio</th>\n",
       "      <td>0.025024</td>\n",
       "    </tr>\n",
       "    <tr>\n",
       "      <th>Male-ratio</th>\n",
       "      <td>0.024711</td>\n",
       "    </tr>\n",
       "  </tbody>\n",
       "</table>\n",
       "</div>"
      ],
      "text/plain": [
       "                       ratio\n",
       "FocusPresent-ratio  0.164057\n",
       "Social-ratio        0.157996\n",
       "Positive-ratio      0.047158\n",
       "Negative-ratio      0.038628\n",
       "FocusPast-ratio     0.038413\n",
       "Adj-ratio           0.035537\n",
       "Negate-ratio        0.031386\n",
       "Informal-ratio      0.028622\n",
       "Interrog-ratio      0.025024\n",
       "Male-ratio          0.024711"
      ]
     },
     "execution_count": 16,
     "metadata": {},
     "output_type": "execute_result"
    }
   ],
   "source": [
    "#Highest ratios for drama\n",
    "find_highest_ratios(drama_ratios)"
   ]
  },
  {
   "cell_type": "code",
   "execution_count": 17,
   "metadata": {},
   "outputs": [
    {
     "data": {
      "text/html": [
       "<div>\n",
       "<style scoped>\n",
       "    .dataframe tbody tr th:only-of-type {\n",
       "        vertical-align: middle;\n",
       "    }\n",
       "\n",
       "    .dataframe tbody tr th {\n",
       "        vertical-align: top;\n",
       "    }\n",
       "\n",
       "    .dataframe thead th {\n",
       "        text-align: right;\n",
       "    }\n",
       "</style>\n",
       "<table border=\"1\" class=\"dataframe\">\n",
       "  <thead>\n",
       "    <tr style=\"text-align: right;\">\n",
       "      <th></th>\n",
       "      <th>ratio</th>\n",
       "    </tr>\n",
       "  </thead>\n",
       "  <tbody>\n",
       "    <tr>\n",
       "      <th>FocusPresent-ratio</th>\n",
       "      <td>0.163363</td>\n",
       "    </tr>\n",
       "    <tr>\n",
       "      <th>Social-ratio</th>\n",
       "      <td>0.151539</td>\n",
       "    </tr>\n",
       "    <tr>\n",
       "      <th>Positive-ratio</th>\n",
       "      <td>0.050235</td>\n",
       "    </tr>\n",
       "    <tr>\n",
       "      <th>Negative-ratio</th>\n",
       "      <td>0.038489</td>\n",
       "    </tr>\n",
       "    <tr>\n",
       "      <th>Adj-ratio</th>\n",
       "      <td>0.037102</td>\n",
       "    </tr>\n",
       "    <tr>\n",
       "      <th>Informal-ratio</th>\n",
       "      <td>0.035687</td>\n",
       "    </tr>\n",
       "    <tr>\n",
       "      <th>FocusPast-ratio</th>\n",
       "      <td>0.035258</td>\n",
       "    </tr>\n",
       "    <tr>\n",
       "      <th>Negate-ratio</th>\n",
       "      <td>0.030755</td>\n",
       "    </tr>\n",
       "    <tr>\n",
       "      <th>Interrog-ratio</th>\n",
       "      <td>0.024067</td>\n",
       "    </tr>\n",
       "    <tr>\n",
       "      <th>Male-ratio</th>\n",
       "      <td>0.022589</td>\n",
       "    </tr>\n",
       "  </tbody>\n",
       "</table>\n",
       "</div>"
      ],
      "text/plain": [
       "                       ratio\n",
       "FocusPresent-ratio  0.163363\n",
       "Social-ratio        0.151539\n",
       "Positive-ratio      0.050235\n",
       "Negative-ratio      0.038489\n",
       "Adj-ratio           0.037102\n",
       "Informal-ratio      0.035687\n",
       "FocusPast-ratio     0.035258\n",
       "Negate-ratio        0.030755\n",
       "Interrog-ratio      0.024067\n",
       "Male-ratio          0.022589"
      ]
     },
     "execution_count": 17,
     "metadata": {},
     "output_type": "execute_result"
    }
   ],
   "source": [
    "#Highest ratios for comedy\n",
    "find_highest_ratios(comedy_ratios)"
   ]
  },
  {
   "cell_type": "code",
   "execution_count": 18,
   "metadata": {},
   "outputs": [
    {
     "data": {
      "text/html": [
       "<div>\n",
       "<style scoped>\n",
       "    .dataframe tbody tr th:only-of-type {\n",
       "        vertical-align: middle;\n",
       "    }\n",
       "\n",
       "    .dataframe tbody tr th {\n",
       "        vertical-align: top;\n",
       "    }\n",
       "\n",
       "    .dataframe thead th {\n",
       "        text-align: right;\n",
       "    }\n",
       "</style>\n",
       "<table border=\"1\" class=\"dataframe\">\n",
       "  <thead>\n",
       "    <tr style=\"text-align: right;\">\n",
       "      <th></th>\n",
       "      <th>ratio</th>\n",
       "    </tr>\n",
       "  </thead>\n",
       "  <tbody>\n",
       "    <tr>\n",
       "      <th>FocusPresent-ratio</th>\n",
       "      <td>0.166549</td>\n",
       "    </tr>\n",
       "    <tr>\n",
       "      <th>Social-ratio</th>\n",
       "      <td>0.158671</td>\n",
       "    </tr>\n",
       "    <tr>\n",
       "      <th>Positive-ratio</th>\n",
       "      <td>0.051494</td>\n",
       "    </tr>\n",
       "    <tr>\n",
       "      <th>FocusPast-ratio</th>\n",
       "      <td>0.037738</td>\n",
       "    </tr>\n",
       "    <tr>\n",
       "      <th>Adj-ratio</th>\n",
       "      <td>0.037276</td>\n",
       "    </tr>\n",
       "    <tr>\n",
       "      <th>Negative-ratio</th>\n",
       "      <td>0.035540</td>\n",
       "    </tr>\n",
       "    <tr>\n",
       "      <th>Negate-ratio</th>\n",
       "      <td>0.032542</td>\n",
       "    </tr>\n",
       "    <tr>\n",
       "      <th>Informal-ratio</th>\n",
       "      <td>0.029774</td>\n",
       "    </tr>\n",
       "    <tr>\n",
       "      <th>Interrog-ratio</th>\n",
       "      <td>0.025073</td>\n",
       "    </tr>\n",
       "    <tr>\n",
       "      <th>Male-ratio</th>\n",
       "      <td>0.022253</td>\n",
       "    </tr>\n",
       "  </tbody>\n",
       "</table>\n",
       "</div>"
      ],
      "text/plain": [
       "                       ratio\n",
       "FocusPresent-ratio  0.166549\n",
       "Social-ratio        0.158671\n",
       "Positive-ratio      0.051494\n",
       "FocusPast-ratio     0.037738\n",
       "Adj-ratio           0.037276\n",
       "Negative-ratio      0.035540\n",
       "Negate-ratio        0.032542\n",
       "Informal-ratio      0.029774\n",
       "Interrog-ratio      0.025073\n",
       "Male-ratio          0.022253"
      ]
     },
     "execution_count": 18,
     "metadata": {},
     "output_type": "execute_result"
    }
   ],
   "source": [
    "#Highest ratios for romance\n",
    "find_highest_ratios(romance_ratios)"
   ]
  },
  {
   "cell_type": "code",
   "execution_count": 19,
   "metadata": {},
   "outputs": [
    {
     "data": {
      "text/html": [
       "<div>\n",
       "<style scoped>\n",
       "    .dataframe tbody tr th:only-of-type {\n",
       "        vertical-align: middle;\n",
       "    }\n",
       "\n",
       "    .dataframe tbody tr th {\n",
       "        vertical-align: top;\n",
       "    }\n",
       "\n",
       "    .dataframe thead th {\n",
       "        text-align: right;\n",
       "    }\n",
       "</style>\n",
       "<table border=\"1\" class=\"dataframe\">\n",
       "  <thead>\n",
       "    <tr style=\"text-align: right;\">\n",
       "      <th></th>\n",
       "      <th>ratio</th>\n",
       "    </tr>\n",
       "  </thead>\n",
       "  <tbody>\n",
       "    <tr>\n",
       "      <th>FocusPresent-ratio</th>\n",
       "      <td>0.160288</td>\n",
       "    </tr>\n",
       "    <tr>\n",
       "      <th>Social-ratio</th>\n",
       "      <td>0.154497</td>\n",
       "    </tr>\n",
       "    <tr>\n",
       "      <th>Negative-ratio</th>\n",
       "      <td>0.044745</td>\n",
       "    </tr>\n",
       "    <tr>\n",
       "      <th>Positive-ratio</th>\n",
       "      <td>0.044257</td>\n",
       "    </tr>\n",
       "    <tr>\n",
       "      <th>FocusPast-ratio</th>\n",
       "      <td>0.035303</td>\n",
       "    </tr>\n",
       "    <tr>\n",
       "      <th>Adj-ratio</th>\n",
       "      <td>0.033414</td>\n",
       "    </tr>\n",
       "    <tr>\n",
       "      <th>Negate-ratio</th>\n",
       "      <td>0.028608</td>\n",
       "    </tr>\n",
       "    <tr>\n",
       "      <th>Informal-ratio</th>\n",
       "      <td>0.027791</td>\n",
       "    </tr>\n",
       "    <tr>\n",
       "      <th>Male-ratio</th>\n",
       "      <td>0.026986</td>\n",
       "    </tr>\n",
       "    <tr>\n",
       "      <th>Interrog-ratio</th>\n",
       "      <td>0.024286</td>\n",
       "    </tr>\n",
       "  </tbody>\n",
       "</table>\n",
       "</div>"
      ],
      "text/plain": [
       "                       ratio\n",
       "FocusPresent-ratio  0.160288\n",
       "Social-ratio        0.154497\n",
       "Negative-ratio      0.044745\n",
       "Positive-ratio      0.044257\n",
       "FocusPast-ratio     0.035303\n",
       "Adj-ratio           0.033414\n",
       "Negate-ratio        0.028608\n",
       "Informal-ratio      0.027791\n",
       "Male-ratio          0.026986\n",
       "Interrog-ratio      0.024286"
      ]
     },
     "execution_count": 19,
     "metadata": {},
     "output_type": "execute_result"
    }
   ],
   "source": [
    "#Highest ratios for action\n",
    "find_highest_ratios(action_ratios)"
   ]
  },
  {
   "cell_type": "code",
   "execution_count": 20,
   "metadata": {},
   "outputs": [
    {
     "data": {
      "text/html": [
       "<div>\n",
       "<style scoped>\n",
       "    .dataframe tbody tr th:only-of-type {\n",
       "        vertical-align: middle;\n",
       "    }\n",
       "\n",
       "    .dataframe tbody tr th {\n",
       "        vertical-align: top;\n",
       "    }\n",
       "\n",
       "    .dataframe thead th {\n",
       "        text-align: right;\n",
       "    }\n",
       "</style>\n",
       "<table border=\"1\" class=\"dataframe\">\n",
       "  <thead>\n",
       "    <tr style=\"text-align: right;\">\n",
       "      <th></th>\n",
       "      <th>ratio</th>\n",
       "    </tr>\n",
       "  </thead>\n",
       "  <tbody>\n",
       "    <tr>\n",
       "      <th>FocusPresent-ratio</th>\n",
       "      <td>0.167236</td>\n",
       "    </tr>\n",
       "    <tr>\n",
       "      <th>Social-ratio</th>\n",
       "      <td>0.150075</td>\n",
       "    </tr>\n",
       "    <tr>\n",
       "      <th>Negative-ratio</th>\n",
       "      <td>0.046043</td>\n",
       "    </tr>\n",
       "    <tr>\n",
       "      <th>Positive-ratio</th>\n",
       "      <td>0.044492</td>\n",
       "    </tr>\n",
       "    <tr>\n",
       "      <th>FocusPast-ratio</th>\n",
       "      <td>0.038634</td>\n",
       "    </tr>\n",
       "    <tr>\n",
       "      <th>Informal-ratio</th>\n",
       "      <td>0.036680</td>\n",
       "    </tr>\n",
       "    <tr>\n",
       "      <th>Adj-ratio</th>\n",
       "      <td>0.034779</td>\n",
       "    </tr>\n",
       "    <tr>\n",
       "      <th>Negate-ratio</th>\n",
       "      <td>0.032021</td>\n",
       "    </tr>\n",
       "    <tr>\n",
       "      <th>Interrog-ratio</th>\n",
       "      <td>0.025524</td>\n",
       "    </tr>\n",
       "    <tr>\n",
       "      <th>Male-ratio</th>\n",
       "      <td>0.020776</td>\n",
       "    </tr>\n",
       "  </tbody>\n",
       "</table>\n",
       "</div>"
      ],
      "text/plain": [
       "                       ratio\n",
       "FocusPresent-ratio  0.167236\n",
       "Social-ratio        0.150075\n",
       "Negative-ratio      0.046043\n",
       "Positive-ratio      0.044492\n",
       "FocusPast-ratio     0.038634\n",
       "Informal-ratio      0.036680\n",
       "Adj-ratio           0.034779\n",
       "Negate-ratio        0.032021\n",
       "Interrog-ratio      0.025524\n",
       "Male-ratio          0.020776"
      ]
     },
     "execution_count": 20,
     "metadata": {},
     "output_type": "execute_result"
    }
   ],
   "source": [
    "#Highest ratios for horror\n",
    "find_highest_ratios(horror_ratios)"
   ]
  },
  {
   "cell_type": "markdown",
   "metadata": {},
   "source": [
    "### *Important Finding:  Every genre has a similar distribution of highest ratios on average!*\n",
    "#### This could indicate that perhaps genre is NOT a crucial feature in predicting review based on linguistic features."
   ]
  },
  {
   "cell_type": "markdown",
   "metadata": {},
   "source": [
    "## Section 3 - EDA on Correlations between Ratios\n",
    "---"
   ]
  },
  {
   "cell_type": "code",
   "execution_count": 21,
   "metadata": {},
   "outputs": [],
   "source": [
    "#append the ratio cols to now include rating rank\n",
    "ratio_cols.append('rating_rank')"
   ]
  },
  {
   "cell_type": "code",
   "execution_count": 22,
   "metadata": {},
   "outputs": [
    {
     "data": {
      "text/html": [
       "<div>\n",
       "<style scoped>\n",
       "    .dataframe tbody tr th:only-of-type {\n",
       "        vertical-align: middle;\n",
       "    }\n",
       "\n",
       "    .dataframe tbody tr th {\n",
       "        vertical-align: top;\n",
       "    }\n",
       "\n",
       "    .dataframe thead th {\n",
       "        text-align: right;\n",
       "    }\n",
       "</style>\n",
       "<table border=\"1\" class=\"dataframe\">\n",
       "  <thead>\n",
       "    <tr style=\"text-align: right;\">\n",
       "      <th></th>\n",
       "      <th>rating_rank</th>\n",
       "    </tr>\n",
       "  </thead>\n",
       "  <tbody>\n",
       "    <tr>\n",
       "      <th>rating_rank</th>\n",
       "      <td>1.000000</td>\n",
       "    </tr>\n",
       "    <tr>\n",
       "      <th>FocusPast-ratio</th>\n",
       "      <td>0.156960</td>\n",
       "    </tr>\n",
       "    <tr>\n",
       "      <th>Money-ratio</th>\n",
       "      <td>0.119341</td>\n",
       "    </tr>\n",
       "    <tr>\n",
       "      <th>AuthorityVirtue-ratio</th>\n",
       "      <td>0.101652</td>\n",
       "    </tr>\n",
       "    <tr>\n",
       "      <th>IngroupVirtue-ratio</th>\n",
       "      <td>0.099823</td>\n",
       "    </tr>\n",
       "    <tr>\n",
       "      <th>Male-ratio</th>\n",
       "      <td>0.087400</td>\n",
       "    </tr>\n",
       "    <tr>\n",
       "      <th>FairnessVirtue-ratio</th>\n",
       "      <td>0.087379</td>\n",
       "    </tr>\n",
       "    <tr>\n",
       "      <th>Adj-ratio</th>\n",
       "      <td>0.076322</td>\n",
       "    </tr>\n",
       "    <tr>\n",
       "      <th>FairnessVice-ratio</th>\n",
       "      <td>0.074908</td>\n",
       "    </tr>\n",
       "    <tr>\n",
       "      <th>AuthorityVice-ratio</th>\n",
       "      <td>0.050179</td>\n",
       "    </tr>\n",
       "    <tr>\n",
       "      <th>IngroupVice-ratio</th>\n",
       "      <td>0.044619</td>\n",
       "    </tr>\n",
       "    <tr>\n",
       "      <th>Family-ratio</th>\n",
       "      <td>0.040566</td>\n",
       "    </tr>\n",
       "    <tr>\n",
       "      <th>Female-ratio</th>\n",
       "      <td>0.013779</td>\n",
       "    </tr>\n",
       "    <tr>\n",
       "      <th>MoralityGeneral-ratio</th>\n",
       "      <td>0.009710</td>\n",
       "    </tr>\n",
       "    <tr>\n",
       "      <th>Social-ratio</th>\n",
       "      <td>0.007335</td>\n",
       "    </tr>\n",
       "    <tr>\n",
       "      <th>PurityVirtue-ratio</th>\n",
       "      <td>0.005539</td>\n",
       "    </tr>\n",
       "    <tr>\n",
       "      <th>FocusFuture-ratio</th>\n",
       "      <td>0.003681</td>\n",
       "    </tr>\n",
       "    <tr>\n",
       "      <th>Interrog-ratio</th>\n",
       "      <td>-0.004780</td>\n",
       "    </tr>\n",
       "    <tr>\n",
       "      <th>PurityVice-ratio</th>\n",
       "      <td>-0.009540</td>\n",
       "    </tr>\n",
       "    <tr>\n",
       "      <th>Negate-ratio</th>\n",
       "      <td>-0.019429</td>\n",
       "    </tr>\n",
       "  </tbody>\n",
       "</table>\n",
       "</div>"
      ],
      "text/plain": [
       "                       rating_rank\n",
       "rating_rank               1.000000\n",
       "FocusPast-ratio           0.156960\n",
       "Money-ratio               0.119341\n",
       "AuthorityVirtue-ratio     0.101652\n",
       "IngroupVirtue-ratio       0.099823\n",
       "Male-ratio                0.087400\n",
       "FairnessVirtue-ratio      0.087379\n",
       "Adj-ratio                 0.076322\n",
       "FairnessVice-ratio        0.074908\n",
       "AuthorityVice-ratio       0.050179\n",
       "IngroupVice-ratio         0.044619\n",
       "Family-ratio              0.040566\n",
       "Female-ratio              0.013779\n",
       "MoralityGeneral-ratio     0.009710\n",
       "Social-ratio              0.007335\n",
       "PurityVirtue-ratio        0.005539\n",
       "FocusFuture-ratio         0.003681\n",
       "Interrog-ratio           -0.004780\n",
       "PurityVice-ratio         -0.009540\n",
       "Negate-ratio             -0.019429"
      ]
     },
     "execution_count": 22,
     "metadata": {},
     "output_type": "execute_result"
    }
   ],
   "source": [
    "#Create dataframe with only target variable and ratios to find correlation between features and target variable\n",
    "corr_df = df[ratio_cols]\n",
    "corr_df.corr()[['rating_rank']].sort_values(by='rating_rank', ascending=False).head(20)"
   ]
  },
  {
   "cell_type": "code",
   "execution_count": 23,
   "metadata": {},
   "outputs": [
    {
     "data": {
      "image/png": "[encoded data removed]",
      "text/plain": [
       "<Figure size 1152x648 with 2 Axes>"
      ]
     },
     "metadata": {
      "needs_background": "light"
     },
     "output_type": "display_data"
    }
   ],
   "source": [
    "#Plot most positive correlations in heatmap\n",
    "plt.figure(figsize=(16,9))\n",
    "sns.heatmap(corr_df.corr()[['rating_rank']].sort_values(by='rating_rank', ascending=False).head(20),\n",
    "            vmin = -1, vmax = 1,\n",
    "            cmap = 'hot',\n",
    "            annot = True);"
   ]
  },
  {
   "cell_type": "code",
   "execution_count": 24,
   "metadata": {},
   "outputs": [
    {
     "data": {
      "image/png": "[encoded data removed]",
      "text/plain": [
       "<Figure size 1152x648 with 2 Axes>"
      ]
     },
     "metadata": {
      "needs_background": "light"
     },
     "output_type": "display_data"
    }
   ],
   "source": [
    "#Plot most negative correlations in heatmap\n",
    "plt.figure(figsize=(16,9))\n",
    "sns.heatmap(corr_df.corr()[['rating_rank']].sort_values(by='rating_rank', ascending=True).head(20),\n",
    "            vmin = -1, vmax = 1,\n",
    "            cmap = 'Blues',\n",
    "            annot = True);"
   ]
  },
  {
   "cell_type": "markdown",
   "metadata": {},
   "source": [
    "#### *Important Finding*:  Correlation are small and correlation differences between ratios are small.  This could indicate using regularization would be beneficial in modeling. "
   ]
  },
  {
   "cell_type": "markdown",
   "metadata": {},
   "source": [
    "## Section 4 - Brief EDA on other features in model, other than linguistic ratios\n",
    "---"
   ]
  },
  {
   "cell_type": "markdown",
   "metadata": {},
   "source": [
    "#### Look into 'years_old' feature"
   ]
  },
  {
   "cell_type": "code",
   "execution_count": 25,
   "metadata": {},
   "outputs": [
    {
     "data": {
      "text/plain": [
       "16.24"
      ]
     },
     "execution_count": 25,
     "metadata": {},
     "output_type": "execute_result"
    }
   ],
   "source": [
    "#Average age of all movies in dataset\n",
    "round(df['years_old'].mean(), 2)"
   ]
  },
  {
   "cell_type": "code",
   "execution_count": 26,
   "metadata": {},
   "outputs": [
    {
     "data": {
      "text/plain": [
       "16.66"
      ]
     },
     "execution_count": 26,
     "metadata": {},
     "output_type": "execute_result"
    }
   ],
   "source": [
    "#Average age of comedy movies\n",
    "round(df_comedy['years_old'].mean(), 2)"
   ]
  },
  {
   "cell_type": "code",
   "execution_count": 27,
   "metadata": {},
   "outputs": [
    {
     "data": {
      "text/plain": [
       "16.58"
      ]
     },
     "execution_count": 27,
     "metadata": {},
     "output_type": "execute_result"
    }
   ],
   "source": [
    "#Average age of drama movies\n",
    "round(df_drama['years_old'].mean(), 2)"
   ]
  },
  {
   "cell_type": "code",
   "execution_count": 28,
   "metadata": {},
   "outputs": [
    {
     "data": {
      "text/plain": [
       "17.09"
      ]
     },
     "execution_count": 28,
     "metadata": {},
     "output_type": "execute_result"
    }
   ],
   "source": [
    "#Average age of romance movies\n",
    "round(df_romance['years_old'].mean(), 2)"
   ]
  },
  {
   "cell_type": "code",
   "execution_count": 29,
   "metadata": {},
   "outputs": [
    {
     "data": {
      "text/plain": [
       "16.18"
      ]
     },
     "execution_count": 29,
     "metadata": {},
     "output_type": "execute_result"
    }
   ],
   "source": [
    "#Average age of action movies\n",
    "round(df_action['years_old'].mean(), 2)"
   ]
  },
  {
   "cell_type": "code",
   "execution_count": 30,
   "metadata": {},
   "outputs": [
    {
     "data": {
      "text/html": [
       "<div>\n",
       "<style scoped>\n",
       "    .dataframe tbody tr th:only-of-type {\n",
       "        vertical-align: middle;\n",
       "    }\n",
       "\n",
       "    .dataframe tbody tr th {\n",
       "        vertical-align: top;\n",
       "    }\n",
       "\n",
       "    .dataframe thead th {\n",
       "        text-align: right;\n",
       "    }\n",
       "</style>\n",
       "<table border=\"1\" class=\"dataframe\">\n",
       "  <thead>\n",
       "    <tr style=\"text-align: right;\">\n",
       "      <th></th>\n",
       "      <th>years_old</th>\n",
       "      <th>rating_rank</th>\n",
       "    </tr>\n",
       "  </thead>\n",
       "  <tbody>\n",
       "    <tr>\n",
       "      <th>years_old</th>\n",
       "      <td>1.000000</td>\n",
       "      <td>0.132452</td>\n",
       "    </tr>\n",
       "    <tr>\n",
       "      <th>rating_rank</th>\n",
       "      <td>0.132452</td>\n",
       "      <td>1.000000</td>\n",
       "    </tr>\n",
       "  </tbody>\n",
       "</table>\n",
       "</div>"
      ],
      "text/plain": [
       "             years_old  rating_rank\n",
       "years_old     1.000000     0.132452\n",
       "rating_rank   0.132452     1.000000"
      ]
     },
     "execution_count": 30,
     "metadata": {},
     "output_type": "execute_result"
    }
   ],
   "source": [
    "#Correlation between years_old and rating_rank\n",
    "df[['years_old', 'rating_rank']].corr()"
   ]
  },
  {
   "cell_type": "markdown",
   "metadata": {},
   "source": [
    "#### Look into 'country' feature"
   ]
  },
  {
   "cell_type": "code",
   "execution_count": 31,
   "metadata": {},
   "outputs": [
    {
     "data": {
      "text/plain": [
       "6.063299113392451"
      ]
     },
     "execution_count": 31,
     "metadata": {},
     "output_type": "execute_result"
    }
   ],
   "source": [
    "#Look at USA only feature, for average rating\n",
    "USA_only = df[df['USAonly_1_other_0'] == 1]\n",
    "USA_only['rating_rank'].mean()"
   ]
  },
  {
   "cell_type": "code",
   "execution_count": 32,
   "metadata": {},
   "outputs": [
    {
     "data": {
      "text/plain": [
       "6.5215869106263025"
      ]
     },
     "execution_count": 32,
     "metadata": {},
     "output_type": "execute_result"
    }
   ],
   "source": [
    "#Look at not USA feature, for average rating\n",
    "USA_not = df[df['USAonly_1_other_0'] == 0]\n",
    "USA_not['rating_rank'].mean()"
   ]
  },
  {
   "cell_type": "code",
   "execution_count": 33,
   "metadata": {},
   "outputs": [
    {
     "data": {
      "text/plain": [
       "6.12471632955107"
      ]
     },
     "execution_count": 33,
     "metadata": {},
     "output_type": "execute_result"
    }
   ],
   "source": [
    "#Look at USA with other countries feature, for average rating\n",
    "USA_any = df[df['USAany_1_other_0'] == 1]\n",
    "USA_any['rating_rank'].mean()"
   ]
  },
  {
   "cell_type": "code",
   "execution_count": 34,
   "metadata": {},
   "outputs": [
    {
     "data": {
      "text/html": [
       "<div>\n",
       "<style scoped>\n",
       "    .dataframe tbody tr th:only-of-type {\n",
       "        vertical-align: middle;\n",
       "    }\n",
       "\n",
       "    .dataframe tbody tr th {\n",
       "        vertical-align: top;\n",
       "    }\n",
       "\n",
       "    .dataframe thead th {\n",
       "        text-align: right;\n",
       "    }\n",
       "</style>\n",
       "<table border=\"1\" class=\"dataframe\">\n",
       "  <thead>\n",
       "    <tr style=\"text-align: right;\">\n",
       "      <th></th>\n",
       "      <th>rating_rank</th>\n",
       "    </tr>\n",
       "  </thead>\n",
       "  <tbody>\n",
       "    <tr>\n",
       "      <th>rating_rank</th>\n",
       "      <td>1.000000</td>\n",
       "    </tr>\n",
       "    <tr>\n",
       "      <th>USAonly_1_other_0</th>\n",
       "      <td>-0.195068</td>\n",
       "    </tr>\n",
       "    <tr>\n",
       "      <th>USAany_1_other_0</th>\n",
       "      <td>-0.214871</td>\n",
       "    </tr>\n",
       "  </tbody>\n",
       "</table>\n",
       "</div>"
      ],
      "text/plain": [
       "                   rating_rank\n",
       "rating_rank           1.000000\n",
       "USAonly_1_other_0    -0.195068\n",
       "USAany_1_other_0     -0.214871"
      ]
     },
     "execution_count": 34,
     "metadata": {},
     "output_type": "execute_result"
    }
   ],
   "source": [
    "#Observe correlation between country and rating_rank\n",
    "country_corr = df[['USAonly_1_other_0', 'USAany_1_other_0', 'rating_rank']]\n",
    "country_corr.corr()[['rating_rank']].sort_values(by='rating_rank', ascending=False)"
   ]
  },
  {
   "cell_type": "markdown",
   "metadata": {},
   "source": [
    "### Finally, EDA on target variable (rating_rank)"
   ]
  },
  {
   "cell_type": "code",
   "execution_count": 35,
   "metadata": {},
   "outputs": [
    {
     "data": {
      "text/plain": [
       "6.3245737211634765"
      ]
     },
     "execution_count": 35,
     "metadata": {},
     "output_type": "execute_result"
    }
   ],
   "source": [
    "df['rating_rank'].mean()"
   ]
  },
  {
   "cell_type": "code",
   "execution_count": 36,
   "metadata": {},
   "outputs": [
    {
     "data": {
      "image/png": "[encoded data removed]",
      "text/plain": [
       "<Figure size 864x576 with 1 Axes>"
      ]
     },
     "metadata": {
      "needs_background": "light"
     },
     "output_type": "display_data"
    }
   ],
   "source": [
    "#Plot histogram distribution of rating_rank\n",
    "plt.figure(figsize=(12,8))\n",
    "plt.title('Rating Rank Distribution', size=20)\n",
    "\n",
    "plt.xlabel('Rating Rank', size=12)\n",
    "plt.ylabel('Frequency Count', size=12)\n",
    "\n",
    "plt.axvline(df['rating_rank'].mean(), c='red', label='mean')\n",
    "plt.legend();\n",
    "\n",
    "plt.hist(df['rating_rank'], bins=100);"
   ]
  },
  {
   "cell_type": "code",
   "execution_count": 37,
   "metadata": {},
   "outputs": [
    {
     "data": {
      "image/png": "[encoded data removed]",
      "text/plain": [
       "<Figure size 1000x250 with 5 Axes>"
      ]
     },
     "metadata": {
      "needs_background": "light"
     },
     "output_type": "display_data"
    },
    {
     "data": {
      "text/plain": [
       "<Figure size 1152x648 with 0 Axes>"
      ]
     },
     "metadata": {},
     "output_type": "display_data"
    }
   ],
   "source": [
    "# Source code for following cell: https://www.machinelearningplus.com/plots/matplotlib-histogram-python-examples/\n",
    "\n",
    "# Plot Rating Rank per main genres\n",
    "fig, axes = plt.subplots(1, 5, figsize=(10,2.5), dpi=100, sharex=True, sharey=True)\n",
    "\n",
    "colors = ['tab:red', 'tab:blue', 'tab:green', 'tab:pink', 'tab:olive']\n",
    "genres = ['drama', 'comedy', 'romance', 'action', 'crime']\n",
    "\n",
    "for i, (ax, genre) in enumerate(zip(axes.flatten(), genres)):\n",
    "    x = df.loc[df[genre]==1, 'rating_rank']\n",
    "    ax.hist(x, alpha=0.5, bins=100, density=True, stacked=True, label=str(genre), color=colors[i])\n",
    "    ax.set_title(genre)\n",
    "\n",
    "plt.suptitle('Probability Histogram of Rating Rank, per Genre', y=1.05, size=16);\n",
    "plt.figure(figsize=(16,9));\n",
    "ax.set_xlim(1, 10); ax.set_ylim(0, 1);\n",
    "plt.tight_layout();"
   ]
  },
  {
   "cell_type": "markdown",
   "metadata": {},
   "source": [
    "#### Main takeaway:  Distributions between main genres are very similar.  All distributions, like the overall rating rank distribution, are slightly left-skewed.  Comedy and Action genres appear to have a slightly less steep distribution around the mean."
   ]
  },
  {
   "cell_type": "code",
   "execution_count": 38,
   "metadata": {},
   "outputs": [
    {
     "data": {
      "text/plain": [
       "(9970, 108)"
      ]
     },
     "execution_count": 38,
     "metadata": {},
     "output_type": "execute_result"
    }
   ],
   "source": [
    "df.shape"
   ]
  },
  {
   "cell_type": "code",
   "execution_count": null,
   "metadata": {},
   "outputs": [],
   "source": []
  }
 ],
 "metadata": {
  "kernelspec": {
   "display_name": "Python 3",
   "language": "python",
   "name": "python3"
  },
  "language_info": {
   "codemirror_mode": {
    "name": "ipython",
    "version": 3
   },
   "file_extension": ".py",
   "mimetype": "text/x-python",
   "name": "python",
   "nbconvert_exporter": "python",
   "pygments_lexer": "ipython3",
   "version": "3.8.3"
  }
 },
 "nbformat": 4,
 "nbformat_minor": 4
}
