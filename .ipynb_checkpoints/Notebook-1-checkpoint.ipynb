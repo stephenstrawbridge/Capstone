{
 "cells": [
  {
   "cell_type": "markdown",
   "metadata": {},
   "source": [
    "<img src=\"http://imgur.com/1ZcRyrc.png\" style=\"float: left; margin: 20px; height: 55px\">\n",
    "\n",
    "# Capstone Project: Film Linguistics\n",
    "## Notebook 1\n",
    "#### Stephen Strawbridge, Cohort #1019"
   ]
  },
  {
   "cell_type": "markdown",
   "metadata": {},
   "source": [
    "---\n",
    "# Section 1 - Background and Problem Statement\n",
    "\n",
    "---"
   ]
  },
  {
   "cell_type": "markdown",
   "metadata": {},
   "source": [
    "## Problem Statement"
   ]
  },
  {
   "cell_type": "markdown",
   "metadata": {},
   "source": [
    "I hypothesize that certain genres of movies are not reaching their full rating potential in part due to a lack of consideration of linguistic statistics in movie scripts.  This project aims to use various prediction models to find the ideal linguistic features of successful movies per genre."
   ]
  },
  {
   "cell_type": "code",
   "execution_count": null,
   "metadata": {},
   "outputs": [],
   "source": []
  },
  {
   "cell_type": "markdown",
   "metadata": {},
   "source": [
    "---\n",
    "# Section 2 - Data Cleaning\n",
    "\n",
    "---"
   ]
  },
  {
   "cell_type": "code",
   "execution_count": 1,
   "metadata": {},
   "outputs": [],
   "source": [
    "#Import necessary packages\n",
    "import pandas as pd\n",
    "import numpy as np\n",
    "import seaborn as sns\n",
    "import matplotlib.pyplot as plt"
   ]
  },
  {
   "cell_type": "code",
   "execution_count": 2,
   "metadata": {},
   "outputs": [
    {
     "name": "stderr",
     "output_type": "stream",
     "text": [
      "/Users/stephenstrawbridge/opt/anaconda3/lib/python3.8/site-packages/IPython/core/interactiveshell.py:3071: DtypeWarning: Columns (10,12,14,16,18,20,22,24,26,28,30,32,34,44,46,79,81,83,85,87,89,91,93,95,97,99,101,103,105,107,109,111,113,115,117,119,121,123,125,127,129,131,133,135,137,139,141,143,145,147,149,151,153,155,157,159,161,163,165,167,169,171,173,175,177,179,181,183,185,187,189,191,193,195,197,199,201,203,205,207,209,211,213,215,217,219,221,223) have mixed types.Specify dtype option on import or set low_memory=False.\n",
      "  has_raised = await self.run_ast_nodes(code_ast.body, cell_name,\n"
     ]
    }
   ],
   "source": [
    "#Read in dataset\n",
    "df = pd.read_csv('./Datasets/dataset.csv');"
   ]
  },
  {
   "cell_type": "code",
   "execution_count": 3,
   "metadata": {},
   "outputs": [
    {
     "name": "stdout",
     "output_type": "stream",
     "text": [
      "<class 'pandas.core.frame.DataFrame'>\n",
      "RangeIndex: 30493 entries, 0 to 30492\n",
      "Columns: 224 entries, MovieID to Filler-ratio\n",
      "dtypes: float64(6), int64(120), object(98)\n",
      "memory usage: 52.1+ MB\n"
     ]
    }
   ],
   "source": [
    "#Look at overall info on dataset\n",
    "df.info()"
   ]
  },
  {
   "cell_type": "code",
   "execution_count": 4,
   "metadata": {},
   "outputs": [
    {
     "data": {
      "text/plain": [
       "random_number                 58\n",
       "plot_summary               28887\n",
       "made_for                   27198\n",
       "suspended                  30479\n",
       "running_time                1877\n",
       "running_time_comment       27406\n",
       "country                        7\n",
       "USAonly_1_other_0              7\n",
       "rating_dist                  568\n",
       "rating_votes                 568\n",
       "rating_rank                  568\n",
       "CERT_dummycode             16972\n",
       "cert-west-germany          26482\n",
       "genre1                       257\n",
       "genre2                      9686\n",
       "genre3                     19502\n",
       "PrimaryGenre_dummycoded      257\n",
       "dtype: int64"
      ]
     },
     "execution_count": 4,
     "metadata": {},
     "output_type": "execute_result"
    }
   ],
   "source": [
    "#Isolate for columns with null values\n",
    "nan_cols = [i for i in df if df[i].isnull().any()]\n",
    "df[nan_cols].isnull().sum()"
   ]
  },
  {
   "cell_type": "code",
   "execution_count": 5,
   "metadata": {},
   "outputs": [],
   "source": [
    "#First, drop unecessary columns for project\n",
    "df = df.drop(columns=['random_number', 'USAonly_1_other_0', 'CERT_dummycode', 'cert-west-germany'])"
   ]
  },
  {
   "cell_type": "code",
   "execution_count": 6,
   "metadata": {},
   "outputs": [],
   "source": [
    "#Replace nulls in suspended columns with 'Not suspended'\n",
    "df['suspended'] = df['suspended'].replace(np.nan, 'Not suspended')"
   ]
  },
  {
   "cell_type": "code",
   "execution_count": 7,
   "metadata": {},
   "outputs": [],
   "source": [
    "#Map the phrase 'Not provided' to object columns with null values\n",
    "obj_null_cols = ['plot_summary', 'made_for', 'running_time', 'running_time_comment', 'country']\n",
    "\n",
    "for col in obj_null_cols:\n",
    "    df[col] = df[col].replace(np.nan, 'Not provided')"
   ]
  },
  {
   "cell_type": "code",
   "execution_count": 8,
   "metadata": {},
   "outputs": [],
   "source": [
    "#Because ratings will be a primary target variable in project, rows where rating data is missing will be dropped\n",
    "df = df[df['rating_dist'].notna()]\n",
    "df = df[df['rating_votes'].notna()]\n",
    "df = df[df['rating_rank'].notna()]"
   ]
  },
  {
   "cell_type": "code",
   "execution_count": 9,
   "metadata": {},
   "outputs": [],
   "source": [
    "#For genres, our dataframe already has the genres dummified, so we can drop the original genre columns\n",
    "df = df.drop(columns=['genre1', 'genre2', 'genre3', 'PrimaryGenre_dummycoded'])"
   ]
  },
  {
   "cell_type": "code",
   "execution_count": 10,
   "metadata": {},
   "outputs": [
    {
     "data": {
      "text/plain": [
       "Series([], dtype: float64)"
      ]
     },
     "execution_count": 10,
     "metadata": {},
     "output_type": "execute_result"
    }
   ],
   "source": [
    "#Double check that no more nulls exist in dataframe\n",
    "nan_cols = [i for i in df if df[i].isnull().any()]\n",
    "df[nan_cols].isnull().sum()"
   ]
  },
  {
   "cell_type": "code",
   "execution_count": 11,
   "metadata": {},
   "outputs": [],
   "source": [
    "#Save cleaned dataframe to excel\n",
    "#df.to_excel('./Excels/cleaned_df.xlsx')"
   ]
  },
  {
   "cell_type": "markdown",
   "metadata": {},
   "source": [
    "---\n",
    "# Section 3 - Exploratory Data Analysis (EDA)\n",
    "\n",
    "---"
   ]
  },
  {
   "cell_type": "markdown",
   "metadata": {},
   "source": [
    "#### Because we are specifically looking at the linguistic characteristic ratios, we will create column list of all ratio features.  The total initial number of ratios is 86"
   ]
  },
  {
   "cell_type": "code",
   "execution_count": 14,
   "metadata": {},
   "outputs": [],
   "source": [
    "#Create ratio_cols list of all ratio features\n",
    "ratio_cols = [col for col in df.columns if 'ratio' in col]\n",
    "\n",
    "#It was noticed that a question mark was present in ratio columns\n",
    "#The rows with this question mark were dropped\n",
    "for col in df[ratio_cols]:\n",
    "    df = df[df[col] != '?']"
   ]
  },
  {
   "cell_type": "code",
   "execution_count": 43,
   "metadata": {},
   "outputs": [
    {
     "data": {
      "text/html": [
       "<div>\n",
       "<style scoped>\n",
       "    .dataframe tbody tr th:only-of-type {\n",
       "        vertical-align: middle;\n",
       "    }\n",
       "\n",
       "    .dataframe tbody tr th {\n",
       "        vertical-align: top;\n",
       "    }\n",
       "\n",
       "    .dataframe thead th {\n",
       "        text-align: right;\n",
       "    }\n",
       "</style>\n",
       "<table border=\"1\" class=\"dataframe\">\n",
       "  <thead>\n",
       "    <tr style=\"text-align: right;\">\n",
       "      <th></th>\n",
       "      <th>HarmVirtue-ratio</th>\n",
       "      <th>HarmVice-ratio</th>\n",
       "      <th>FairnessVirtue-ratio</th>\n",
       "      <th>FairnessVice-ratio</th>\n",
       "      <th>IngroupVirtue-ratio</th>\n",
       "      <th>IngroupVice-ratio</th>\n",
       "      <th>AuthorityVirtue-ratio</th>\n",
       "      <th>AuthorityVice-ratio</th>\n",
       "      <th>PurityVirtue-ratio</th>\n",
       "      <th>PurityVice-ratio</th>\n",
       "      <th>...</th>\n",
       "      <th>Home-ratio</th>\n",
       "      <th>Money-ratio</th>\n",
       "      <th>Relig-ratio</th>\n",
       "      <th>Death-ratio</th>\n",
       "      <th>Informal-ratio</th>\n",
       "      <th>Swear-ratio</th>\n",
       "      <th>Netspeak-ratio</th>\n",
       "      <th>Assent-ratio</th>\n",
       "      <th>Nonflu-ratio</th>\n",
       "      <th>Filler-ratio</th>\n",
       "    </tr>\n",
       "  </thead>\n",
       "  <tbody>\n",
       "    <tr>\n",
       "      <th>count</th>\n",
       "      <td>29921.000000</td>\n",
       "      <td>29921.000000</td>\n",
       "      <td>29921.000000</td>\n",
       "      <td>29921.000000</td>\n",
       "      <td>29921.000000</td>\n",
       "      <td>29921.000000</td>\n",
       "      <td>29921.000000</td>\n",
       "      <td>29921.000000</td>\n",
       "      <td>29921.000000</td>\n",
       "      <td>29921.000000</td>\n",
       "      <td>...</td>\n",
       "      <td>29921.000000</td>\n",
       "      <td>29921.000000</td>\n",
       "      <td>29921.000000</td>\n",
       "      <td>29921.000000</td>\n",
       "      <td>29921.000000</td>\n",
       "      <td>29921.000000</td>\n",
       "      <td>29921.000000</td>\n",
       "      <td>29921.000000</td>\n",
       "      <td>29921.000000</td>\n",
       "      <td>29921.000000</td>\n",
       "    </tr>\n",
       "    <tr>\n",
       "      <th>mean</th>\n",
       "      <td>0.001432</td>\n",
       "      <td>0.002836</td>\n",
       "      <td>0.000365</td>\n",
       "      <td>0.000047</td>\n",
       "      <td>0.001344</td>\n",
       "      <td>0.000407</td>\n",
       "      <td>0.002984</td>\n",
       "      <td>0.000265</td>\n",
       "      <td>0.000676</td>\n",
       "      <td>0.000803</td>\n",
       "      <td>...</td>\n",
       "      <td>0.004338</td>\n",
       "      <td>0.005970</td>\n",
       "      <td>0.004215</td>\n",
       "      <td>0.004055</td>\n",
       "      <td>0.024876</td>\n",
       "      <td>0.004660</td>\n",
       "      <td>0.004021</td>\n",
       "      <td>0.008119</td>\n",
       "      <td>0.006830</td>\n",
       "      <td>0.000427</td>\n",
       "    </tr>\n",
       "    <tr>\n",
       "      <th>std</th>\n",
       "      <td>0.001218</td>\n",
       "      <td>0.002694</td>\n",
       "      <td>0.000462</td>\n",
       "      <td>0.000162</td>\n",
       "      <td>0.001425</td>\n",
       "      <td>0.000781</td>\n",
       "      <td>0.002588</td>\n",
       "      <td>0.000596</td>\n",
       "      <td>0.001089</td>\n",
       "      <td>0.000948</td>\n",
       "      <td>...</td>\n",
       "      <td>0.002855</td>\n",
       "      <td>0.004823</td>\n",
       "      <td>0.005032</td>\n",
       "      <td>0.003883</td>\n",
       "      <td>0.019023</td>\n",
       "      <td>0.006367</td>\n",
       "      <td>0.008088</td>\n",
       "      <td>0.005485</td>\n",
       "      <td>0.007126</td>\n",
       "      <td>0.002845</td>\n",
       "    </tr>\n",
       "    <tr>\n",
       "      <th>min</th>\n",
       "      <td>0.000000</td>\n",
       "      <td>0.000000</td>\n",
       "      <td>0.000000</td>\n",
       "      <td>0.000000</td>\n",
       "      <td>0.000000</td>\n",
       "      <td>0.000000</td>\n",
       "      <td>0.000000</td>\n",
       "      <td>0.000000</td>\n",
       "      <td>0.000000</td>\n",
       "      <td>0.000000</td>\n",
       "      <td>...</td>\n",
       "      <td>0.000000</td>\n",
       "      <td>0.000000</td>\n",
       "      <td>0.000000</td>\n",
       "      <td>0.000000</td>\n",
       "      <td>0.000000</td>\n",
       "      <td>0.000000</td>\n",
       "      <td>0.000000</td>\n",
       "      <td>0.000000</td>\n",
       "      <td>0.000000</td>\n",
       "      <td>0.000000</td>\n",
       "    </tr>\n",
       "    <tr>\n",
       "      <th>25%</th>\n",
       "      <td>0.000713</td>\n",
       "      <td>0.001197</td>\n",
       "      <td>0.000000</td>\n",
       "      <td>0.000000</td>\n",
       "      <td>0.000607</td>\n",
       "      <td>0.000000</td>\n",
       "      <td>0.001293</td>\n",
       "      <td>0.000000</td>\n",
       "      <td>0.000184</td>\n",
       "      <td>0.000257</td>\n",
       "      <td>...</td>\n",
       "      <td>0.002604</td>\n",
       "      <td>0.002942</td>\n",
       "      <td>0.001496</td>\n",
       "      <td>0.001430</td>\n",
       "      <td>0.012341</td>\n",
       "      <td>0.000691</td>\n",
       "      <td>0.000583</td>\n",
       "      <td>0.004481</td>\n",
       "      <td>0.002181</td>\n",
       "      <td>0.000000</td>\n",
       "    </tr>\n",
       "    <tr>\n",
       "      <th>50%</th>\n",
       "      <td>0.001190</td>\n",
       "      <td>0.002127</td>\n",
       "      <td>0.000260</td>\n",
       "      <td>0.000000</td>\n",
       "      <td>0.001059</td>\n",
       "      <td>0.000174</td>\n",
       "      <td>0.002304</td>\n",
       "      <td>0.000105</td>\n",
       "      <td>0.000449</td>\n",
       "      <td>0.000586</td>\n",
       "      <td>...</td>\n",
       "      <td>0.003887</td>\n",
       "      <td>0.004829</td>\n",
       "      <td>0.002901</td>\n",
       "      <td>0.003022</td>\n",
       "      <td>0.020579</td>\n",
       "      <td>0.002394</td>\n",
       "      <td>0.002108</td>\n",
       "      <td>0.007233</td>\n",
       "      <td>0.004543</td>\n",
       "      <td>0.000250</td>\n",
       "    </tr>\n",
       "    <tr>\n",
       "      <th>75%</th>\n",
       "      <td>0.001855</td>\n",
       "      <td>0.003685</td>\n",
       "      <td>0.000521</td>\n",
       "      <td>0.000000</td>\n",
       "      <td>0.001696</td>\n",
       "      <td>0.000495</td>\n",
       "      <td>0.003919</td>\n",
       "      <td>0.000325</td>\n",
       "      <td>0.000843</td>\n",
       "      <td>0.001060</td>\n",
       "      <td>...</td>\n",
       "      <td>0.005499</td>\n",
       "      <td>0.007720</td>\n",
       "      <td>0.005061</td>\n",
       "      <td>0.005577</td>\n",
       "      <td>0.033192</td>\n",
       "      <td>0.006082</td>\n",
       "      <td>0.005510</td>\n",
       "      <td>0.010742</td>\n",
       "      <td>0.009317</td>\n",
       "      <td>0.000560</td>\n",
       "    </tr>\n",
       "    <tr>\n",
       "      <th>max</th>\n",
       "      <td>0.041667</td>\n",
       "      <td>0.102041</td>\n",
       "      <td>0.010870</td>\n",
       "      <td>0.008637</td>\n",
       "      <td>0.056075</td>\n",
       "      <td>0.029412</td>\n",
       "      <td>0.033557</td>\n",
       "      <td>0.035714</td>\n",
       "      <td>0.057292</td>\n",
       "      <td>0.041667</td>\n",
       "      <td>...</td>\n",
       "      <td>0.131579</td>\n",
       "      <td>0.126824</td>\n",
       "      <td>0.104839</td>\n",
       "      <td>0.120000</td>\n",
       "      <td>0.574468</td>\n",
       "      <td>0.076547</td>\n",
       "      <td>0.500000</td>\n",
       "      <td>0.137255</td>\n",
       "      <td>0.220690</td>\n",
       "      <td>0.480000</td>\n",
       "    </tr>\n",
       "  </tbody>\n",
       "</table>\n",
       "<p>8 rows × 86 columns</p>\n",
       "</div>"
      ],
      "text/plain": [
       "       HarmVirtue-ratio  HarmVice-ratio  FairnessVirtue-ratio  \\\n",
       "count      29921.000000    29921.000000          29921.000000   \n",
       "mean           0.001432        0.002836              0.000365   \n",
       "std            0.001218        0.002694              0.000462   \n",
       "min            0.000000        0.000000              0.000000   \n",
       "25%            0.000713        0.001197              0.000000   \n",
       "50%            0.001190        0.002127              0.000260   \n",
       "75%            0.001855        0.003685              0.000521   \n",
       "max            0.041667        0.102041              0.010870   \n",
       "\n",
       "       FairnessVice-ratio  IngroupVirtue-ratio  IngroupVice-ratio  \\\n",
       "count        29921.000000         29921.000000       29921.000000   \n",
       "mean             0.000047             0.001344           0.000407   \n",
       "std              0.000162             0.001425           0.000781   \n",
       "min              0.000000             0.000000           0.000000   \n",
       "25%              0.000000             0.000607           0.000000   \n",
       "50%              0.000000             0.001059           0.000174   \n",
       "75%              0.000000             0.001696           0.000495   \n",
       "max              0.008637             0.056075           0.029412   \n",
       "\n",
       "       AuthorityVirtue-ratio  AuthorityVice-ratio  PurityVirtue-ratio  \\\n",
       "count           29921.000000         29921.000000        29921.000000   \n",
       "mean                0.002984             0.000265            0.000676   \n",
       "std                 0.002588             0.000596            0.001089   \n",
       "min                 0.000000             0.000000            0.000000   \n",
       "25%                 0.001293             0.000000            0.000184   \n",
       "50%                 0.002304             0.000105            0.000449   \n",
       "75%                 0.003919             0.000325            0.000843   \n",
       "max                 0.033557             0.035714            0.057292   \n",
       "\n",
       "       PurityVice-ratio  ...    Home-ratio   Money-ratio   Relig-ratio  \\\n",
       "count      29921.000000  ...  29921.000000  29921.000000  29921.000000   \n",
       "mean           0.000803  ...      0.004338      0.005970      0.004215   \n",
       "std            0.000948  ...      0.002855      0.004823      0.005032   \n",
       "min            0.000000  ...      0.000000      0.000000      0.000000   \n",
       "25%            0.000257  ...      0.002604      0.002942      0.001496   \n",
       "50%            0.000586  ...      0.003887      0.004829      0.002901   \n",
       "75%            0.001060  ...      0.005499      0.007720      0.005061   \n",
       "max            0.041667  ...      0.131579      0.126824      0.104839   \n",
       "\n",
       "        Death-ratio  Informal-ratio   Swear-ratio  Netspeak-ratio  \\\n",
       "count  29921.000000    29921.000000  29921.000000    29921.000000   \n",
       "mean       0.004055        0.024876      0.004660        0.004021   \n",
       "std        0.003883        0.019023      0.006367        0.008088   \n",
       "min        0.000000        0.000000      0.000000        0.000000   \n",
       "25%        0.001430        0.012341      0.000691        0.000583   \n",
       "50%        0.003022        0.020579      0.002394        0.002108   \n",
       "75%        0.005577        0.033192      0.006082        0.005510   \n",
       "max        0.120000        0.574468      0.076547        0.500000   \n",
       "\n",
       "       Assent-ratio  Nonflu-ratio  Filler-ratio  \n",
       "count  29921.000000  29921.000000  29921.000000  \n",
       "mean       0.008119      0.006830      0.000427  \n",
       "std        0.005485      0.007126      0.002845  \n",
       "min        0.000000      0.000000      0.000000  \n",
       "25%        0.004481      0.002181      0.000000  \n",
       "50%        0.007233      0.004543      0.000250  \n",
       "75%        0.010742      0.009317      0.000560  \n",
       "max        0.137255      0.220690      0.480000  \n",
       "\n",
       "[8 rows x 86 columns]"
      ]
     },
     "execution_count": 43,
     "metadata": {},
     "output_type": "execute_result"
    }
   ],
   "source": [
    "#Convert columns to floats (they are currently object types)\n",
    "df[ratio_cols] = df[ratio_cols].astype(float)\n",
    "\n",
    "#Create df for all ratio features and explore summary stats\n",
    "ratio_df = df[ratio_cols]\n",
    "ratio_df.describe()"
   ]
  },
  {
   "cell_type": "code",
   "execution_count": 46,
   "metadata": {},
   "outputs": [
    {
     "data": {
      "text/html": [
       "<div>\n",
       "<style scoped>\n",
       "    .dataframe tbody tr th:only-of-type {\n",
       "        vertical-align: middle;\n",
       "    }\n",
       "\n",
       "    .dataframe tbody tr th {\n",
       "        vertical-align: top;\n",
       "    }\n",
       "\n",
       "    .dataframe thead th {\n",
       "        text-align: right;\n",
       "    }\n",
       "</style>\n",
       "<table border=\"1\" class=\"dataframe\">\n",
       "  <thead>\n",
       "    <tr style=\"text-align: right;\">\n",
       "      <th></th>\n",
       "      <th>TotalWords.1</th>\n",
       "    </tr>\n",
       "  </thead>\n",
       "  <tbody>\n",
       "    <tr>\n",
       "      <th>count</th>\n",
       "      <td>29921.000000</td>\n",
       "    </tr>\n",
       "    <tr>\n",
       "      <th>mean</th>\n",
       "      <td>6118.685639</td>\n",
       "    </tr>\n",
       "    <tr>\n",
       "      <th>std</th>\n",
       "      <td>3182.313585</td>\n",
       "    </tr>\n",
       "    <tr>\n",
       "      <th>min</th>\n",
       "      <td>1.000000</td>\n",
       "    </tr>\n",
       "    <tr>\n",
       "      <th>25%</th>\n",
       "      <td>3972.000000</td>\n",
       "    </tr>\n",
       "    <tr>\n",
       "      <th>50%</th>\n",
       "      <td>5812.000000</td>\n",
       "    </tr>\n",
       "    <tr>\n",
       "      <th>75%</th>\n",
       "      <td>7963.000000</td>\n",
       "    </tr>\n",
       "    <tr>\n",
       "      <th>max</th>\n",
       "      <td>60618.000000</td>\n",
       "    </tr>\n",
       "  </tbody>\n",
       "</table>\n",
       "</div>"
      ],
      "text/plain": [
       "       TotalWords.1\n",
       "count  29921.000000\n",
       "mean    6118.685639\n",
       "std     3182.313585\n",
       "min        1.000000\n",
       "25%     3972.000000\n",
       "50%     5812.000000\n",
       "75%     7963.000000\n",
       "max    60618.000000"
      ]
     },
     "execution_count": 46,
     "metadata": {},
     "output_type": "execute_result"
    }
   ],
   "source": [
    "#Compare above statistics to the total word count summary statistics\n",
    "df[['TotalWords.1']].describe()"
   ]
  },
  {
   "cell_type": "code",
   "execution_count": null,
   "metadata": {},
   "outputs": [],
   "source": []
  }
 ],
 "metadata": {
  "kernelspec": {
   "display_name": "Python 3",
   "language": "python",
   "name": "python3"
  },
  "language_info": {
   "codemirror_mode": {
    "name": "ipython",
    "version": 3
   },
   "file_extension": ".py",
   "mimetype": "text/x-python",
   "name": "python",
   "nbconvert_exporter": "python",
   "pygments_lexer": "ipython3",
   "version": "3.8.3"
  }
 },
 "nbformat": 4,
 "nbformat_minor": 4
}
