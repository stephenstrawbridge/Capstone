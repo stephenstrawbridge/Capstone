{
 "cells": [
  {
   "cell_type": "markdown",
   "metadata": {},
   "source": [
    "<img src='./images/film_logo.jpeg' style='float:left; width:200px;height:200px'/>\n",
    "\n",
    "#  <h1><center> Capstone Project: Film Linguistics </center></h1>\n",
    "#  Notebook 3a - Linear Regression with Principal Component Analysis (PCA)\n",
    "####  Stephen Strawbridge, Cohort #1019"
   ]
  },
  {
   "cell_type": "code",
   "execution_count": 1,
   "metadata": {},
   "outputs": [],
   "source": [
    "#Import necessary packages\n",
    "import pandas as pd\n",
    "import numpy as np\n",
    "import seaborn as sns\n",
    "import matplotlib.pyplot as plt\n",
    "\n",
    "# Import from sklearn.\n",
    "from sklearn import metrics\n",
    "from sklearn.model_selection import train_test_split\n",
    "from sklearn.linear_model import LinearRegression\n",
    "from sklearn.preprocessing import PolynomialFeatures, StandardScaler\n",
    "from sklearn.decomposition import PCA"
   ]
  },
  {
   "cell_type": "code",
   "execution_count": 2,
   "metadata": {},
   "outputs": [],
   "source": [
    "#Read in cleaned dataset\n",
    "df = pd.read_csv('./CSVs/cleaned_df.csv');"
   ]
  },
  {
   "cell_type": "code",
   "execution_count": 3,
   "metadata": {},
   "outputs": [
    {
     "data": {
      "text/html": [
       "<div>\n",
       "<style scoped>\n",
       "    .dataframe tbody tr th:only-of-type {\n",
       "        vertical-align: middle;\n",
       "    }\n",
       "\n",
       "    .dataframe tbody tr th {\n",
       "        vertical-align: top;\n",
       "    }\n",
       "\n",
       "    .dataframe thead th {\n",
       "        text-align: right;\n",
       "    }\n",
       "</style>\n",
       "<table border=\"1\" class=\"dataframe\">\n",
       "  <thead>\n",
       "    <tr style=\"text-align: right;\">\n",
       "      <th></th>\n",
       "      <th>MovieID</th>\n",
       "      <th>IDSubtitleFile</th>\n",
       "      <th>IDSubtitle</th>\n",
       "      <th>MovieName</th>\n",
       "      <th>MovieYear</th>\n",
       "      <th>SubDownloadsCnt</th>\n",
       "      <th>TotalWords</th>\n",
       "      <th>HarmVirtue</th>\n",
       "      <th>HarmVirtue-ratio</th>\n",
       "      <th>HarmVice</th>\n",
       "      <th>...</th>\n",
       "      <th>Relig-ratio</th>\n",
       "      <th>Death</th>\n",
       "      <th>Death-ratio</th>\n",
       "      <th>Informal</th>\n",
       "      <th>Informal-ratio</th>\n",
       "      <th>Swear</th>\n",
       "      <th>Swear-ratio</th>\n",
       "      <th>Filler</th>\n",
       "      <th>Filler-ratio</th>\n",
       "      <th>years_old</th>\n",
       "    </tr>\n",
       "  </thead>\n",
       "  <tbody>\n",
       "    <tr>\n",
       "      <th>0</th>\n",
       "      <td>6247</td>\n",
       "      <td>141146</td>\n",
       "      <td>102946</td>\n",
       "      <td>Jan Dara</td>\n",
       "      <td>2001</td>\n",
       "      <td>4094</td>\n",
       "      <td>4352</td>\n",
       "      <td>3</td>\n",
       "      <td>0.000689</td>\n",
       "      <td>10</td>\n",
       "      <td>...</td>\n",
       "      <td>0.002757</td>\n",
       "      <td>14</td>\n",
       "      <td>0.003217</td>\n",
       "      <td>67</td>\n",
       "      <td>0.015395</td>\n",
       "      <td>34</td>\n",
       "      <td>0.007813</td>\n",
       "      <td>1</td>\n",
       "      <td>0.000230</td>\n",
       "      <td>20</td>\n",
       "    </tr>\n",
       "    <tr>\n",
       "      <th>1</th>\n",
       "      <td>70811</td>\n",
       "      <td>1953655263</td>\n",
       "      <td>5113335</td>\n",
       "      <td>Pocahontas</td>\n",
       "      <td>1995</td>\n",
       "      <td>81</td>\n",
       "      <td>6315</td>\n",
       "      <td>8</td>\n",
       "      <td>0.001267</td>\n",
       "      <td>39</td>\n",
       "      <td>...</td>\n",
       "      <td>0.003959</td>\n",
       "      <td>25</td>\n",
       "      <td>0.003959</td>\n",
       "      <td>68</td>\n",
       "      <td>0.010768</td>\n",
       "      <td>2</td>\n",
       "      <td>0.000317</td>\n",
       "      <td>0</td>\n",
       "      <td>0.000000</td>\n",
       "      <td>26</td>\n",
       "    </tr>\n",
       "    <tr>\n",
       "      <th>2</th>\n",
       "      <td>38254</td>\n",
       "      <td>1952519756</td>\n",
       "      <td>3855025</td>\n",
       "      <td>Space Chimps</td>\n",
       "      <td>2008</td>\n",
       "      <td>45</td>\n",
       "      <td>7435</td>\n",
       "      <td>10</td>\n",
       "      <td>0.001345</td>\n",
       "      <td>8</td>\n",
       "      <td>...</td>\n",
       "      <td>0.002824</td>\n",
       "      <td>17</td>\n",
       "      <td>0.002286</td>\n",
       "      <td>340</td>\n",
       "      <td>0.045730</td>\n",
       "      <td>5</td>\n",
       "      <td>0.000672</td>\n",
       "      <td>62</td>\n",
       "      <td>0.008339</td>\n",
       "      <td>13</td>\n",
       "    </tr>\n",
       "    <tr>\n",
       "      <th>3</th>\n",
       "      <td>150</td>\n",
       "      <td>1953609111</td>\n",
       "      <td>5067084</td>\n",
       "      <td>A Bug's Life</td>\n",
       "      <td>1998</td>\n",
       "      <td>213</td>\n",
       "      <td>7932</td>\n",
       "      <td>8</td>\n",
       "      <td>0.001009</td>\n",
       "      <td>12</td>\n",
       "      <td>...</td>\n",
       "      <td>0.001009</td>\n",
       "      <td>18</td>\n",
       "      <td>0.002269</td>\n",
       "      <td>461</td>\n",
       "      <td>0.058119</td>\n",
       "      <td>8</td>\n",
       "      <td>0.001009</td>\n",
       "      <td>24</td>\n",
       "      <td>0.003026</td>\n",
       "      <td>23</td>\n",
       "    </tr>\n",
       "    <tr>\n",
       "      <th>4</th>\n",
       "      <td>4150</td>\n",
       "      <td>1953020828</td>\n",
       "      <td>4460230</td>\n",
       "      <td>Babe</td>\n",
       "      <td>1995</td>\n",
       "      <td>186</td>\n",
       "      <td>6176</td>\n",
       "      <td>4</td>\n",
       "      <td>0.000648</td>\n",
       "      <td>12</td>\n",
       "      <td>...</td>\n",
       "      <td>0.003400</td>\n",
       "      <td>10</td>\n",
       "      <td>0.001619</td>\n",
       "      <td>171</td>\n",
       "      <td>0.027688</td>\n",
       "      <td>5</td>\n",
       "      <td>0.000810</td>\n",
       "      <td>7</td>\n",
       "      <td>0.001133</td>\n",
       "      <td>26</td>\n",
       "    </tr>\n",
       "  </tbody>\n",
       "</table>\n",
       "<p>5 rows × 108 columns</p>\n",
       "</div>"
      ],
      "text/plain": [
       "   MovieID  IDSubtitleFile  IDSubtitle     MovieName  MovieYear  \\\n",
       "0     6247          141146      102946      Jan Dara       2001   \n",
       "1    70811      1953655263     5113335    Pocahontas       1995   \n",
       "2    38254      1952519756     3855025  Space Chimps       2008   \n",
       "3      150      1953609111     5067084  A Bug's Life       1998   \n",
       "4     4150      1953020828     4460230          Babe       1995   \n",
       "\n",
       "   SubDownloadsCnt  TotalWords  HarmVirtue  HarmVirtue-ratio  HarmVice  ...  \\\n",
       "0             4094        4352           3          0.000689        10  ...   \n",
       "1               81        6315           8          0.001267        39  ...   \n",
       "2               45        7435          10          0.001345         8  ...   \n",
       "3              213        7932           8          0.001009        12  ...   \n",
       "4              186        6176           4          0.000648        12  ...   \n",
       "\n",
       "   Relig-ratio  Death  Death-ratio  Informal  Informal-ratio  Swear  \\\n",
       "0     0.002757     14     0.003217        67        0.015395     34   \n",
       "1     0.003959     25     0.003959        68        0.010768      2   \n",
       "2     0.002824     17     0.002286       340        0.045730      5   \n",
       "3     0.001009     18     0.002269       461        0.058119      8   \n",
       "4     0.003400     10     0.001619       171        0.027688      5   \n",
       "\n",
       "   Swear-ratio  Filler  Filler-ratio  years_old  \n",
       "0     0.007813       1      0.000230         20  \n",
       "1     0.000317       0      0.000000         26  \n",
       "2     0.000672      62      0.008339         13  \n",
       "3     0.001009      24      0.003026         23  \n",
       "4     0.000810       7      0.001133         26  \n",
       "\n",
       "[5 rows x 108 columns]"
      ]
     },
     "execution_count": 3,
     "metadata": {},
     "output_type": "execute_result"
    }
   ],
   "source": [
    "df = df.drop(columns='Unnamed: 0')\n",
    "df.head()"
   ]
  },
  {
   "cell_type": "markdown",
   "metadata": {},
   "source": [
    "## Section 1 - Create Features\n",
    "---"
   ]
  },
  {
   "cell_type": "markdown",
   "metadata": {},
   "source": [
    "#### Create Features for Model"
   ]
  },
  {
   "cell_type": "code",
   "execution_count": 4,
   "metadata": {},
   "outputs": [],
   "source": [
    "#First create list of all ratio columns to use\n",
    "ratio_cols = [col for col in df.columns if 'ratio' in col]\n",
    "\n",
    "\n",
    "#Create list of all the dummified genres to include in features\n",
    "genres = ['drama', 'comedy', 'romance', 'action', 'crime', 'mystery', 'western', 'animation', 'thriller',\n",
    "         'biography', 'adventure', 'horror', 'fantasy', 'musical', 'war', 'sport', 'documentary', 'family',\n",
    "         'short', 'music', 'history', 'adult', 'news']\n",
    "\n",
    "#All of features to include in model\n",
    "other_feats = ['years_old']\n",
    "\n",
    "#Create features list\n",
    "features = ratio_cols + genres + other_feats\n",
    "\n",
    "#Create dataframe for features\n",
    "X = df[features]"
   ]
  },
  {
   "cell_type": "code",
   "execution_count": 5,
   "metadata": {},
   "outputs": [],
   "source": [
    "#Create array for target variable ('rating_rank')\n",
    "y = df['rating_rank']"
   ]
  },
  {
   "cell_type": "markdown",
   "metadata": {},
   "source": [
    "### Apply polynomial features\n",
    "---"
   ]
  },
  {
   "cell_type": "code",
   "execution_count": 6,
   "metadata": {},
   "outputs": [],
   "source": [
    "#Instantiate polynomial features\n",
    "poly = PolynomialFeatures(degree=2, include_bias=False)\n",
    "\n",
    "#Apply polynomial features transformer to X\n",
    "X = poly.fit_transform(X)"
   ]
  },
  {
   "cell_type": "code",
   "execution_count": 7,
   "metadata": {},
   "outputs": [
    {
     "data": {
      "text/html": [
       "<div>\n",
       "<style scoped>\n",
       "    .dataframe tbody tr th:only-of-type {\n",
       "        vertical-align: middle;\n",
       "    }\n",
       "\n",
       "    .dataframe tbody tr th {\n",
       "        vertical-align: top;\n",
       "    }\n",
       "\n",
       "    .dataframe thead th {\n",
       "        text-align: right;\n",
       "    }\n",
       "</style>\n",
       "<table border=\"1\" class=\"dataframe\">\n",
       "  <thead>\n",
       "    <tr style=\"text-align: right;\">\n",
       "      <th></th>\n",
       "      <th>HarmVirtue-ratio</th>\n",
       "      <th>HarmVice-ratio</th>\n",
       "      <th>FairnessVirtue-ratio</th>\n",
       "      <th>FairnessVice-ratio</th>\n",
       "      <th>IngroupVirtue-ratio</th>\n",
       "      <th>IngroupVice-ratio</th>\n",
       "      <th>AuthorityVirtue-ratio</th>\n",
       "      <th>AuthorityVice-ratio</th>\n",
       "      <th>PurityVirtue-ratio</th>\n",
       "      <th>PurityVice-ratio</th>\n",
       "      <th>...</th>\n",
       "      <th>history^2</th>\n",
       "      <th>history adult</th>\n",
       "      <th>history news</th>\n",
       "      <th>history years_old</th>\n",
       "      <th>adult^2</th>\n",
       "      <th>adult news</th>\n",
       "      <th>adult years_old</th>\n",
       "      <th>news^2</th>\n",
       "      <th>news years_old</th>\n",
       "      <th>years_old^2</th>\n",
       "    </tr>\n",
       "  </thead>\n",
       "  <tbody>\n",
       "    <tr>\n",
       "      <th>0</th>\n",
       "      <td>0.000689</td>\n",
       "      <td>0.002298</td>\n",
       "      <td>0.000000</td>\n",
       "      <td>0.000000</td>\n",
       "      <td>0.000919</td>\n",
       "      <td>0.000230</td>\n",
       "      <td>0.016774</td>\n",
       "      <td>0.000000</td>\n",
       "      <td>0.000689</td>\n",
       "      <td>0.001379</td>\n",
       "      <td>...</td>\n",
       "      <td>0.0</td>\n",
       "      <td>0.0</td>\n",
       "      <td>0.0</td>\n",
       "      <td>0.0</td>\n",
       "      <td>0.0</td>\n",
       "      <td>0.0</td>\n",
       "      <td>0.0</td>\n",
       "      <td>0.0</td>\n",
       "      <td>0.0</td>\n",
       "      <td>400.0</td>\n",
       "    </tr>\n",
       "    <tr>\n",
       "      <th>1</th>\n",
       "      <td>0.001267</td>\n",
       "      <td>0.006176</td>\n",
       "      <td>0.000158</td>\n",
       "      <td>0.000000</td>\n",
       "      <td>0.000950</td>\n",
       "      <td>0.001108</td>\n",
       "      <td>0.003325</td>\n",
       "      <td>0.000475</td>\n",
       "      <td>0.000633</td>\n",
       "      <td>0.001108</td>\n",
       "      <td>...</td>\n",
       "      <td>0.0</td>\n",
       "      <td>0.0</td>\n",
       "      <td>0.0</td>\n",
       "      <td>0.0</td>\n",
       "      <td>0.0</td>\n",
       "      <td>0.0</td>\n",
       "      <td>0.0</td>\n",
       "      <td>0.0</td>\n",
       "      <td>0.0</td>\n",
       "      <td>676.0</td>\n",
       "    </tr>\n",
       "    <tr>\n",
       "      <th>2</th>\n",
       "      <td>0.001345</td>\n",
       "      <td>0.001076</td>\n",
       "      <td>0.000403</td>\n",
       "      <td>0.000000</td>\n",
       "      <td>0.000672</td>\n",
       "      <td>0.000403</td>\n",
       "      <td>0.003228</td>\n",
       "      <td>0.000672</td>\n",
       "      <td>0.000269</td>\n",
       "      <td>0.000269</td>\n",
       "      <td>...</td>\n",
       "      <td>0.0</td>\n",
       "      <td>0.0</td>\n",
       "      <td>0.0</td>\n",
       "      <td>0.0</td>\n",
       "      <td>0.0</td>\n",
       "      <td>0.0</td>\n",
       "      <td>0.0</td>\n",
       "      <td>0.0</td>\n",
       "      <td>0.0</td>\n",
       "      <td>169.0</td>\n",
       "    </tr>\n",
       "    <tr>\n",
       "      <th>3</th>\n",
       "      <td>0.001009</td>\n",
       "      <td>0.001513</td>\n",
       "      <td>0.000126</td>\n",
       "      <td>0.000000</td>\n",
       "      <td>0.000630</td>\n",
       "      <td>0.000252</td>\n",
       "      <td>0.002774</td>\n",
       "      <td>0.000000</td>\n",
       "      <td>0.000000</td>\n",
       "      <td>0.000252</td>\n",
       "      <td>...</td>\n",
       "      <td>0.0</td>\n",
       "      <td>0.0</td>\n",
       "      <td>0.0</td>\n",
       "      <td>0.0</td>\n",
       "      <td>0.0</td>\n",
       "      <td>0.0</td>\n",
       "      <td>0.0</td>\n",
       "      <td>0.0</td>\n",
       "      <td>0.0</td>\n",
       "      <td>529.0</td>\n",
       "    </tr>\n",
       "    <tr>\n",
       "      <th>4</th>\n",
       "      <td>0.000648</td>\n",
       "      <td>0.001943</td>\n",
       "      <td>0.000486</td>\n",
       "      <td>0.000162</td>\n",
       "      <td>0.001457</td>\n",
       "      <td>0.000486</td>\n",
       "      <td>0.001295</td>\n",
       "      <td>0.000648</td>\n",
       "      <td>0.000162</td>\n",
       "      <td>0.000324</td>\n",
       "      <td>...</td>\n",
       "      <td>0.0</td>\n",
       "      <td>0.0</td>\n",
       "      <td>0.0</td>\n",
       "      <td>0.0</td>\n",
       "      <td>0.0</td>\n",
       "      <td>0.0</td>\n",
       "      <td>0.0</td>\n",
       "      <td>0.0</td>\n",
       "      <td>0.0</td>\n",
       "      <td>676.0</td>\n",
       "    </tr>\n",
       "  </tbody>\n",
       "</table>\n",
       "<p>5 rows × 1829 columns</p>\n",
       "</div>"
      ],
      "text/plain": [
       "   HarmVirtue-ratio  HarmVice-ratio  FairnessVirtue-ratio  FairnessVice-ratio  \\\n",
       "0          0.000689        0.002298              0.000000            0.000000   \n",
       "1          0.001267        0.006176              0.000158            0.000000   \n",
       "2          0.001345        0.001076              0.000403            0.000000   \n",
       "3          0.001009        0.001513              0.000126            0.000000   \n",
       "4          0.000648        0.001943              0.000486            0.000162   \n",
       "\n",
       "   IngroupVirtue-ratio  IngroupVice-ratio  AuthorityVirtue-ratio  \\\n",
       "0             0.000919           0.000230               0.016774   \n",
       "1             0.000950           0.001108               0.003325   \n",
       "2             0.000672           0.000403               0.003228   \n",
       "3             0.000630           0.000252               0.002774   \n",
       "4             0.001457           0.000486               0.001295   \n",
       "\n",
       "   AuthorityVice-ratio  PurityVirtue-ratio  PurityVice-ratio  ...  history^2  \\\n",
       "0             0.000000            0.000689          0.001379  ...        0.0   \n",
       "1             0.000475            0.000633          0.001108  ...        0.0   \n",
       "2             0.000672            0.000269          0.000269  ...        0.0   \n",
       "3             0.000000            0.000000          0.000252  ...        0.0   \n",
       "4             0.000648            0.000162          0.000324  ...        0.0   \n",
       "\n",
       "   history adult  history news  history years_old  adult^2  adult news  \\\n",
       "0            0.0           0.0                0.0      0.0         0.0   \n",
       "1            0.0           0.0                0.0      0.0         0.0   \n",
       "2            0.0           0.0                0.0      0.0         0.0   \n",
       "3            0.0           0.0                0.0      0.0         0.0   \n",
       "4            0.0           0.0                0.0      0.0         0.0   \n",
       "\n",
       "   adult years_old  news^2  news years_old  years_old^2  \n",
       "0              0.0     0.0             0.0        400.0  \n",
       "1              0.0     0.0             0.0        676.0  \n",
       "2              0.0     0.0             0.0        169.0  \n",
       "3              0.0     0.0             0.0        529.0  \n",
       "4              0.0     0.0             0.0        676.0  \n",
       "\n",
       "[5 rows x 1829 columns]"
      ]
     },
     "execution_count": 7,
     "metadata": {},
     "output_type": "execute_result"
    }
   ],
   "source": [
    "#Check out new dataframe\n",
    "X_poly_df = pd.DataFrame(X, columns=poly.get_feature_names(features))\n",
    "X_poly_df.head()"
   ]
  },
  {
   "cell_type": "code",
   "execution_count": 8,
   "metadata": {},
   "outputs": [],
   "source": [
    "# Train-test-split data.\n",
    "X_train, X_test, y_train, y_test = train_test_split(X,\n",
    "                                                    y,\n",
    "                                                    test_size = 0.25,\n",
    "                                                    random_state = 42)"
   ]
  },
  {
   "cell_type": "markdown",
   "metadata": {},
   "source": [
    "## Section 2 - PCA\n",
    "---"
   ]
  },
  {
   "cell_type": "markdown",
   "metadata": {},
   "source": [
    "#### Standardize Data (as needed in PCA)"
   ]
  },
  {
   "cell_type": "code",
   "execution_count": 9,
   "metadata": {},
   "outputs": [],
   "source": [
    "# Instantiate our StandardScaler.\n",
    "ss = StandardScaler()\n",
    "\n",
    "# Standardize X_train.\n",
    "X_train = ss.fit_transform(X_train)\n",
    "\n",
    "# Standardize X_test.\n",
    "X_test = ss.transform(X_test)"
   ]
  },
  {
   "cell_type": "markdown",
   "metadata": {},
   "source": [
    "#### Apply PCA"
   ]
  },
  {
   "cell_type": "code",
   "execution_count": 10,
   "metadata": {},
   "outputs": [
    {
     "data": {
      "text/html": [
       "<div>\n",
       "<style scoped>\n",
       "    .dataframe tbody tr th:only-of-type {\n",
       "        vertical-align: middle;\n",
       "    }\n",
       "\n",
       "    .dataframe tbody tr th {\n",
       "        vertical-align: top;\n",
       "    }\n",
       "\n",
       "    .dataframe thead th {\n",
       "        text-align: right;\n",
       "    }\n",
       "</style>\n",
       "<table border=\"1\" class=\"dataframe\">\n",
       "  <thead>\n",
       "    <tr style=\"text-align: right;\">\n",
       "      <th></th>\n",
       "      <th>0</th>\n",
       "      <th>1</th>\n",
       "      <th>2</th>\n",
       "      <th>3</th>\n",
       "      <th>4</th>\n",
       "      <th>5</th>\n",
       "      <th>6</th>\n",
       "      <th>7</th>\n",
       "      <th>8</th>\n",
       "      <th>9</th>\n",
       "      <th>...</th>\n",
       "      <th>190</th>\n",
       "      <th>191</th>\n",
       "      <th>192</th>\n",
       "      <th>193</th>\n",
       "      <th>194</th>\n",
       "      <th>195</th>\n",
       "      <th>196</th>\n",
       "      <th>197</th>\n",
       "      <th>198</th>\n",
       "      <th>199</th>\n",
       "    </tr>\n",
       "  </thead>\n",
       "  <tbody>\n",
       "    <tr>\n",
       "      <th>0</th>\n",
       "      <td>7.447229</td>\n",
       "      <td>2.291524</td>\n",
       "      <td>-9.695610</td>\n",
       "      <td>-1.142147</td>\n",
       "      <td>-4.355656</td>\n",
       "      <td>5.853726</td>\n",
       "      <td>-3.598641</td>\n",
       "      <td>1.525353</td>\n",
       "      <td>-2.507218</td>\n",
       "      <td>-0.358436</td>\n",
       "      <td>...</td>\n",
       "      <td>0.373998</td>\n",
       "      <td>-0.682774</td>\n",
       "      <td>0.402233</td>\n",
       "      <td>-0.091428</td>\n",
       "      <td>0.458356</td>\n",
       "      <td>-0.590653</td>\n",
       "      <td>0.953059</td>\n",
       "      <td>0.330567</td>\n",
       "      <td>0.374186</td>\n",
       "      <td>-0.922254</td>\n",
       "    </tr>\n",
       "    <tr>\n",
       "      <th>1</th>\n",
       "      <td>-12.195560</td>\n",
       "      <td>1.954258</td>\n",
       "      <td>1.886734</td>\n",
       "      <td>3.205723</td>\n",
       "      <td>6.944745</td>\n",
       "      <td>-1.322951</td>\n",
       "      <td>-5.538750</td>\n",
       "      <td>4.886860</td>\n",
       "      <td>-0.213822</td>\n",
       "      <td>8.952564</td>\n",
       "      <td>...</td>\n",
       "      <td>1.719340</td>\n",
       "      <td>-2.435705</td>\n",
       "      <td>1.789233</td>\n",
       "      <td>-0.308577</td>\n",
       "      <td>1.106037</td>\n",
       "      <td>0.493379</td>\n",
       "      <td>-0.114196</td>\n",
       "      <td>1.170932</td>\n",
       "      <td>-0.089598</td>\n",
       "      <td>0.774535</td>\n",
       "    </tr>\n",
       "    <tr>\n",
       "      <th>2</th>\n",
       "      <td>19.943973</td>\n",
       "      <td>13.503240</td>\n",
       "      <td>2.703209</td>\n",
       "      <td>-4.914985</td>\n",
       "      <td>1.073047</td>\n",
       "      <td>-9.472180</td>\n",
       "      <td>-1.345059</td>\n",
       "      <td>-1.050349</td>\n",
       "      <td>4.526116</td>\n",
       "      <td>1.381097</td>\n",
       "      <td>...</td>\n",
       "      <td>0.297120</td>\n",
       "      <td>-0.456274</td>\n",
       "      <td>-0.102478</td>\n",
       "      <td>0.473747</td>\n",
       "      <td>0.516356</td>\n",
       "      <td>-0.019286</td>\n",
       "      <td>-0.370383</td>\n",
       "      <td>0.105300</td>\n",
       "      <td>0.246600</td>\n",
       "      <td>-0.088740</td>\n",
       "    </tr>\n",
       "    <tr>\n",
       "      <th>3</th>\n",
       "      <td>-9.208297</td>\n",
       "      <td>3.934053</td>\n",
       "      <td>10.840252</td>\n",
       "      <td>-4.106372</td>\n",
       "      <td>-8.929296</td>\n",
       "      <td>5.002403</td>\n",
       "      <td>0.013712</td>\n",
       "      <td>1.071446</td>\n",
       "      <td>2.554384</td>\n",
       "      <td>-2.400065</td>\n",
       "      <td>...</td>\n",
       "      <td>1.404964</td>\n",
       "      <td>1.410377</td>\n",
       "      <td>0.272035</td>\n",
       "      <td>0.536683</td>\n",
       "      <td>-1.369251</td>\n",
       "      <td>2.210382</td>\n",
       "      <td>0.235025</td>\n",
       "      <td>0.289629</td>\n",
       "      <td>1.725479</td>\n",
       "      <td>0.939944</td>\n",
       "    </tr>\n",
       "    <tr>\n",
       "      <th>4</th>\n",
       "      <td>6.377737</td>\n",
       "      <td>3.941371</td>\n",
       "      <td>-0.597130</td>\n",
       "      <td>-15.009644</td>\n",
       "      <td>16.298467</td>\n",
       "      <td>9.418009</td>\n",
       "      <td>-14.581653</td>\n",
       "      <td>3.557192</td>\n",
       "      <td>8.359874</td>\n",
       "      <td>4.208570</td>\n",
       "      <td>...</td>\n",
       "      <td>2.334364</td>\n",
       "      <td>1.419833</td>\n",
       "      <td>-2.193041</td>\n",
       "      <td>-5.396834</td>\n",
       "      <td>2.050980</td>\n",
       "      <td>-0.599439</td>\n",
       "      <td>-6.259482</td>\n",
       "      <td>1.141717</td>\n",
       "      <td>0.004223</td>\n",
       "      <td>-5.828152</td>\n",
       "    </tr>\n",
       "  </tbody>\n",
       "</table>\n",
       "<p>5 rows × 200 columns</p>\n",
       "</div>"
      ],
      "text/plain": [
       "         0          1          2          3          4         5          6    \\\n",
       "0   7.447229   2.291524  -9.695610  -1.142147  -4.355656  5.853726  -3.598641   \n",
       "1 -12.195560   1.954258   1.886734   3.205723   6.944745 -1.322951  -5.538750   \n",
       "2  19.943973  13.503240   2.703209  -4.914985   1.073047 -9.472180  -1.345059   \n",
       "3  -9.208297   3.934053  10.840252  -4.106372  -8.929296  5.002403   0.013712   \n",
       "4   6.377737   3.941371  -0.597130 -15.009644  16.298467  9.418009 -14.581653   \n",
       "\n",
       "        7         8         9    ...       190       191       192       193  \\\n",
       "0  1.525353 -2.507218 -0.358436  ...  0.373998 -0.682774  0.402233 -0.091428   \n",
       "1  4.886860 -0.213822  8.952564  ...  1.719340 -2.435705  1.789233 -0.308577   \n",
       "2 -1.050349  4.526116  1.381097  ...  0.297120 -0.456274 -0.102478  0.473747   \n",
       "3  1.071446  2.554384 -2.400065  ...  1.404964  1.410377  0.272035  0.536683   \n",
       "4  3.557192  8.359874  4.208570  ...  2.334364  1.419833 -2.193041 -5.396834   \n",
       "\n",
       "        194       195       196       197       198       199  \n",
       "0  0.458356 -0.590653  0.953059  0.330567  0.374186 -0.922254  \n",
       "1  1.106037  0.493379 -0.114196  1.170932 -0.089598  0.774535  \n",
       "2  0.516356 -0.019286 -0.370383  0.105300  0.246600 -0.088740  \n",
       "3 -1.369251  2.210382  0.235025  0.289629  1.725479  0.939944  \n",
       "4  2.050980 -0.599439 -6.259482  1.141717  0.004223 -5.828152  \n",
       "\n",
       "[5 rows x 200 columns]"
      ]
     },
     "execution_count": 10,
     "metadata": {},
     "output_type": "execute_result"
    }
   ],
   "source": [
    "# Instantiate PCA.\n",
    "pca = PCA(n_components=200, random_state=42)\n",
    "\n",
    "# Fit PCA on the training data.\n",
    "pca.fit(X_train)\n",
    "\n",
    "# Transform PCA on the training data.\n",
    "Z_train = pca.transform(X_train)\n",
    "\n",
    "# Transform PCA on the testing data.\n",
    "Z_test = pca.transform(X_test)\n",
    "\n",
    "#For presentation purposes, create dataframe with z-scores for each column\n",
    "df_pca = pd.DataFrame(Z_train)\n",
    "df_pca.head()"
   ]
  },
  {
   "cell_type": "markdown",
   "metadata": {},
   "source": [
    "Each one of these columns (Z-features) is a combination of all of the other original features in the dataframe<br>\n",
    "Each cell is an individual weight."
   ]
  },
  {
   "cell_type": "code",
   "execution_count": 11,
   "metadata": {},
   "outputs": [
    {
     "data": {
      "text/plain": [
       "array([0.05774049, 0.05469701, 0.03729681, 0.03286618, 0.03078571,\n",
       "       0.02599983, 0.02022308, 0.01979989, 0.01886455, 0.01871061,\n",
       "       0.0182682 , 0.01788507, 0.01712904, 0.01706962, 0.01679384,\n",
       "       0.01656159, 0.01588096, 0.01527275, 0.01481404, 0.01475213])"
      ]
     },
     "execution_count": 11,
     "metadata": {},
     "output_type": "execute_result"
    }
   ],
   "source": [
    "#Check out explained variance ratios of 20 most important principal components\n",
    "pca.explained_variance_ratio_[:20]"
   ]
  },
  {
   "cell_type": "markdown",
   "metadata": {},
   "source": [
    "#### Unfortunately, PCA did not appear to improve our model.  As illustrated in the explained variance ratios above,  there were no clear principal components that held predictive value in the dataset."
   ]
  },
  {
   "cell_type": "markdown",
   "metadata": {},
   "source": [
    "## Section 3 - Linear Regression Model\n",
    "---"
   ]
  },
  {
   "cell_type": "code",
   "execution_count": 12,
   "metadata": {},
   "outputs": [
    {
     "name": "stdout",
     "output_type": "stream",
     "text": [
      "Training R-squared: 0.33726\n",
      "Testing R-squared: 0.29829\n"
     ]
    }
   ],
   "source": [
    "#Fit linear regression\n",
    "lr = LinearRegression()\n",
    "lr.fit(Z_train, y_train)\n",
    "\n",
    "train_score = round(lr.score(Z_train, y_train), 5)\n",
    "test_score = round(lr.score(Z_test, y_test), 5)\n",
    "\n",
    "print(f'Training R-squared: {train_score}')\n",
    "print(f'Testing R-squared: {test_score}')"
   ]
  },
  {
   "cell_type": "code",
   "execution_count": 13,
   "metadata": {},
   "outputs": [],
   "source": [
    "#Create predictions and residuals variables\n",
    "preds = lr.predict(Z_test)\n",
    "resids = y_test - preds"
   ]
  },
  {
   "cell_type": "code",
   "execution_count": 14,
   "metadata": {},
   "outputs": [
    {
     "name": "stdout",
     "output_type": "stream",
     "text": [
      "Testing RMSE: 0.94784\n"
     ]
    }
   ],
   "source": [
    "test_RMSE = round(metrics.mean_squared_error(y_test, preds, squared=False), 5)\n",
    "print(f'Testing RMSE: {test_RMSE}')"
   ]
  },
  {
   "cell_type": "code",
   "execution_count": 15,
   "metadata": {},
   "outputs": [
    {
     "name": "stdout",
     "output_type": "stream",
     "text": [
      "Baseline RMSE: 1.13151\n"
     ]
    }
   ],
   "source": [
    "#Baseline RMSE (source code leveraged from https://numpy.org/doc/stable/reference/generated/numpy.zeros_like.html)\n",
    "null_pred = np.zeros_like(y_test)\n",
    "null_pred = null_pred + y_test.mean()\n",
    "base_RMSE = round(metrics.mean_squared_error(y_test, null_pred, squared=False), 5)\n",
    "\n",
    "print(f'Baseline RMSE: {base_RMSE}')"
   ]
  },
  {
   "cell_type": "code",
   "execution_count": 16,
   "metadata": {},
   "outputs": [
    {
     "name": "stdout",
     "output_type": "stream",
     "text": [
      "Model is 1.1938 times better than baseline model\n"
     ]
    }
   ],
   "source": [
    "#How much better is our testing RMSE than baseline RMSE\n",
    "under_base = round(base_RMSE/test_RMSE, 4)\n",
    "print(f'Model is {under_base} times better than baseline model')"
   ]
  },
  {
   "cell_type": "code",
   "execution_count": 17,
   "metadata": {},
   "outputs": [
    {
     "data": {
      "image/png": "[encoded data removed]",
      "text/plain": [
       "<Figure size 1152x648 with 1 Axes>"
      ]
     },
     "metadata": {
      "needs_background": "light"
     },
     "output_type": "display_data"
    }
   ],
   "source": [
    "#Plot residuals\n",
    "\n",
    "plt.figure(figsize=(16,9))\n",
    "sns.scatterplot(x=y_test, y=resids)\n",
    "plt.title('Residuals of Predictions', fontsize=20)\n",
    "plt.ylabel('Error');\n",
    "plt.axhline(0, color='r');"
   ]
  },
  {
   "cell_type": "markdown",
   "metadata": {},
   "source": [
    "#### Interesting Note:  The residuals seem to follow a *linear* pattern.  Throughout all the data, the model seems to generally seems to underestimate very poorly ranked movies and very highly ranked movies (e.g. model gives predictions that are more closely centered around the mean)."
   ]
  },
  {
   "cell_type": "code",
   "execution_count": 18,
   "metadata": {},
   "outputs": [
    {
     "data": {
      "image/png": "[encoded data removed]",
      "text/plain": [
       "<Figure size 576x576 with 1 Axes>"
      ]
     },
     "metadata": {
      "needs_background": "light"
     },
     "output_type": "display_data"
    }
   ],
   "source": [
    "plt.figure(figsize=(8,8))\n",
    "plt.title('Actuals vs Predictions', fontsize=20);\n",
    "\n",
    "sns.regplot(x=y_test, y=preds, data=Z_test, marker='.');\n",
    "\n",
    "plt.xlim(1.5, 9.5)\n",
    "plt.ylim(1.5, 9.5)\n",
    "plt.xlabel('Actuals', fontsize=12);\n",
    "plt.ylabel('Predictions', fontsize=12);"
   ]
  },
  {
   "cell_type": "markdown",
   "metadata": {},
   "source": [
    "#### As seen in graph above, our predictions fall in the range of about 4 to 8.5 rating rank.  Although this is a small range as compared to the actual range, it does make sense, as the distribution of actual rating ranks is very steep (e.g. only a very small percentage of movies fall below a 4 or above an 8.5 on the rating rank)."
   ]
  },
  {
   "cell_type": "code",
   "execution_count": null,
   "metadata": {},
   "outputs": [],
   "source": []
  }
 ],
 "metadata": {
  "kernelspec": {
   "display_name": "Python 3",
   "language": "python",
   "name": "python3"
  },
  "language_info": {
   "codemirror_mode": {
    "name": "ipython",
    "version": 3
   },
   "file_extension": ".py",
   "mimetype": "text/x-python",
   "name": "python",
   "nbconvert_exporter": "python",
   "pygments_lexer": "ipython3",
   "version": "3.8.3"
  }
 },
 "nbformat": 4,
 "nbformat_minor": 4
}
