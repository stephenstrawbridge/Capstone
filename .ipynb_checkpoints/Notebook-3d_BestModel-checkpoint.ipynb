{
 "cells": [
  {
   "cell_type": "markdown",
   "metadata": {},
   "source": [
    "<img src='./images/film_logo.jpeg' style='float:left; width:200px;height:200px'/>\n",
    "\n",
    "#  <h1><center> Capstone Project: Film Linguistics </center></h1>\n",
    "#  Notebook 3d - Best Model and Analysis\n",
    "####  Stephen Strawbridge, Cohort #1019"
   ]
  },
  {
   "cell_type": "code",
   "execution_count": 1,
   "metadata": {},
   "outputs": [],
   "source": [
    "#Import necessary packages\n",
    "import pandas as pd\n",
    "import numpy as np\n",
    "import seaborn as sns\n",
    "import matplotlib.pyplot as plt\n",
    "\n",
    "# Import from sklearn.\n",
    "from sklearn import metrics\n",
    "from sklearn.model_selection import train_test_split, GridSearchCV\n",
    "from sklearn.preprocessing import PolynomialFeatures, StandardScaler\n",
    "from sklearn.decomposition import PCA\n",
    "\n",
    "from sklearn.svm import LinearSVR, SVR"
   ]
  },
  {
   "cell_type": "code",
   "execution_count": 2,
   "metadata": {},
   "outputs": [],
   "source": [
    "#Read in cleaned dataset\n",
    "df = pd.read_csv('./CSVs/cleaned_df.csv');"
   ]
  },
  {
   "cell_type": "code",
   "execution_count": 3,
   "metadata": {},
   "outputs": [
    {
     "data": {
      "text/html": [
       "<div>\n",
       "<style scoped>\n",
       "    .dataframe tbody tr th:only-of-type {\n",
       "        vertical-align: middle;\n",
       "    }\n",
       "\n",
       "    .dataframe tbody tr th {\n",
       "        vertical-align: top;\n",
       "    }\n",
       "\n",
       "    .dataframe thead th {\n",
       "        text-align: right;\n",
       "    }\n",
       "</style>\n",
       "<table border=\"1\" class=\"dataframe\">\n",
       "  <thead>\n",
       "    <tr style=\"text-align: right;\">\n",
       "      <th></th>\n",
       "      <th>MovieID</th>\n",
       "      <th>IDSubtitleFile</th>\n",
       "      <th>IDSubtitle</th>\n",
       "      <th>MovieName</th>\n",
       "      <th>MovieYear</th>\n",
       "      <th>SubDownloadsCnt</th>\n",
       "      <th>TotalWords</th>\n",
       "      <th>HarmVirtue</th>\n",
       "      <th>HarmVirtue-ratio</th>\n",
       "      <th>HarmVice</th>\n",
       "      <th>...</th>\n",
       "      <th>Relig-ratio</th>\n",
       "      <th>Death</th>\n",
       "      <th>Death-ratio</th>\n",
       "      <th>Informal</th>\n",
       "      <th>Informal-ratio</th>\n",
       "      <th>Swear</th>\n",
       "      <th>Swear-ratio</th>\n",
       "      <th>Filler</th>\n",
       "      <th>Filler-ratio</th>\n",
       "      <th>years_old</th>\n",
       "    </tr>\n",
       "  </thead>\n",
       "  <tbody>\n",
       "    <tr>\n",
       "      <th>0</th>\n",
       "      <td>6247</td>\n",
       "      <td>141146</td>\n",
       "      <td>102946</td>\n",
       "      <td>Jan Dara</td>\n",
       "      <td>2001</td>\n",
       "      <td>4094</td>\n",
       "      <td>4352</td>\n",
       "      <td>3</td>\n",
       "      <td>0.000689</td>\n",
       "      <td>10</td>\n",
       "      <td>...</td>\n",
       "      <td>0.002757</td>\n",
       "      <td>14</td>\n",
       "      <td>0.003217</td>\n",
       "      <td>67</td>\n",
       "      <td>0.015395</td>\n",
       "      <td>34</td>\n",
       "      <td>0.007813</td>\n",
       "      <td>1</td>\n",
       "      <td>0.000230</td>\n",
       "      <td>20</td>\n",
       "    </tr>\n",
       "    <tr>\n",
       "      <th>1</th>\n",
       "      <td>70811</td>\n",
       "      <td>1953655263</td>\n",
       "      <td>5113335</td>\n",
       "      <td>Pocahontas</td>\n",
       "      <td>1995</td>\n",
       "      <td>81</td>\n",
       "      <td>6315</td>\n",
       "      <td>8</td>\n",
       "      <td>0.001267</td>\n",
       "      <td>39</td>\n",
       "      <td>...</td>\n",
       "      <td>0.003959</td>\n",
       "      <td>25</td>\n",
       "      <td>0.003959</td>\n",
       "      <td>68</td>\n",
       "      <td>0.010768</td>\n",
       "      <td>2</td>\n",
       "      <td>0.000317</td>\n",
       "      <td>0</td>\n",
       "      <td>0.000000</td>\n",
       "      <td>26</td>\n",
       "    </tr>\n",
       "    <tr>\n",
       "      <th>2</th>\n",
       "      <td>38254</td>\n",
       "      <td>1952519756</td>\n",
       "      <td>3855025</td>\n",
       "      <td>Space Chimps</td>\n",
       "      <td>2008</td>\n",
       "      <td>45</td>\n",
       "      <td>7435</td>\n",
       "      <td>10</td>\n",
       "      <td>0.001345</td>\n",
       "      <td>8</td>\n",
       "      <td>...</td>\n",
       "      <td>0.002824</td>\n",
       "      <td>17</td>\n",
       "      <td>0.002286</td>\n",
       "      <td>340</td>\n",
       "      <td>0.045730</td>\n",
       "      <td>5</td>\n",
       "      <td>0.000672</td>\n",
       "      <td>62</td>\n",
       "      <td>0.008339</td>\n",
       "      <td>13</td>\n",
       "    </tr>\n",
       "    <tr>\n",
       "      <th>3</th>\n",
       "      <td>150</td>\n",
       "      <td>1953609111</td>\n",
       "      <td>5067084</td>\n",
       "      <td>A Bug's Life</td>\n",
       "      <td>1998</td>\n",
       "      <td>213</td>\n",
       "      <td>7932</td>\n",
       "      <td>8</td>\n",
       "      <td>0.001009</td>\n",
       "      <td>12</td>\n",
       "      <td>...</td>\n",
       "      <td>0.001009</td>\n",
       "      <td>18</td>\n",
       "      <td>0.002269</td>\n",
       "      <td>461</td>\n",
       "      <td>0.058119</td>\n",
       "      <td>8</td>\n",
       "      <td>0.001009</td>\n",
       "      <td>24</td>\n",
       "      <td>0.003026</td>\n",
       "      <td>23</td>\n",
       "    </tr>\n",
       "    <tr>\n",
       "      <th>4</th>\n",
       "      <td>4150</td>\n",
       "      <td>1953020828</td>\n",
       "      <td>4460230</td>\n",
       "      <td>Babe</td>\n",
       "      <td>1995</td>\n",
       "      <td>186</td>\n",
       "      <td>6176</td>\n",
       "      <td>4</td>\n",
       "      <td>0.000648</td>\n",
       "      <td>12</td>\n",
       "      <td>...</td>\n",
       "      <td>0.003400</td>\n",
       "      <td>10</td>\n",
       "      <td>0.001619</td>\n",
       "      <td>171</td>\n",
       "      <td>0.027688</td>\n",
       "      <td>5</td>\n",
       "      <td>0.000810</td>\n",
       "      <td>7</td>\n",
       "      <td>0.001133</td>\n",
       "      <td>26</td>\n",
       "    </tr>\n",
       "  </tbody>\n",
       "</table>\n",
       "<p>5 rows × 108 columns</p>\n",
       "</div>"
      ],
      "text/plain": [
       "   MovieID  IDSubtitleFile  IDSubtitle     MovieName  MovieYear  \\\n",
       "0     6247          141146      102946      Jan Dara       2001   \n",
       "1    70811      1953655263     5113335    Pocahontas       1995   \n",
       "2    38254      1952519756     3855025  Space Chimps       2008   \n",
       "3      150      1953609111     5067084  A Bug's Life       1998   \n",
       "4     4150      1953020828     4460230          Babe       1995   \n",
       "\n",
       "   SubDownloadsCnt  TotalWords  HarmVirtue  HarmVirtue-ratio  HarmVice  ...  \\\n",
       "0             4094        4352           3          0.000689        10  ...   \n",
       "1               81        6315           8          0.001267        39  ...   \n",
       "2               45        7435          10          0.001345         8  ...   \n",
       "3              213        7932           8          0.001009        12  ...   \n",
       "4              186        6176           4          0.000648        12  ...   \n",
       "\n",
       "   Relig-ratio  Death  Death-ratio  Informal  Informal-ratio  Swear  \\\n",
       "0     0.002757     14     0.003217        67        0.015395     34   \n",
       "1     0.003959     25     0.003959        68        0.010768      2   \n",
       "2     0.002824     17     0.002286       340        0.045730      5   \n",
       "3     0.001009     18     0.002269       461        0.058119      8   \n",
       "4     0.003400     10     0.001619       171        0.027688      5   \n",
       "\n",
       "   Swear-ratio  Filler  Filler-ratio  years_old  \n",
       "0     0.007813       1      0.000230         20  \n",
       "1     0.000317       0      0.000000         26  \n",
       "2     0.000672      62      0.008339         13  \n",
       "3     0.001009      24      0.003026         23  \n",
       "4     0.000810       7      0.001133         26  \n",
       "\n",
       "[5 rows x 108 columns]"
      ]
     },
     "execution_count": 3,
     "metadata": {},
     "output_type": "execute_result"
    }
   ],
   "source": [
    "df = df.drop(columns='Unnamed: 0')\n",
    "df.head()"
   ]
  },
  {
   "cell_type": "markdown",
   "metadata": {},
   "source": [
    "## Section 1 - Create Features\n",
    "---"
   ]
  },
  {
   "cell_type": "markdown",
   "metadata": {},
   "source": [
    "#### Create Features for Model"
   ]
  },
  {
   "cell_type": "code",
   "execution_count": 4,
   "metadata": {},
   "outputs": [],
   "source": [
    "#First create list of all ratio columns to use\n",
    "ratio_cols = [col for col in df.columns if 'ratio' in col]\n",
    "\n",
    "\n",
    "#Create list of all the dummified genres to include in features\n",
    "genres = ['drama', 'comedy', 'romance', 'action', 'crime', 'mystery', 'western', 'animation', 'thriller',\n",
    "         'biography', 'adventure', 'horror', 'fantasy', 'musical', 'war', 'sport', 'documentary', 'family',\n",
    "         'short', 'music', 'history', 'adult', 'news']\n",
    "\n",
    "#All of features to include in model\n",
    "other_feats = ['years_old']\n",
    "\n",
    "#Create features list\n",
    "features = ratio_cols + genres + other_feats\n",
    "\n",
    "#Create dataframe for features\n",
    "X = df[features]"
   ]
  },
  {
   "cell_type": "code",
   "execution_count": 5,
   "metadata": {},
   "outputs": [],
   "source": [
    "#Create array for target variable ('rating_rank')\n",
    "y = df['rating_rank']"
   ]
  },
  {
   "cell_type": "code",
   "execution_count": 6,
   "metadata": {},
   "outputs": [],
   "source": [
    "# Train-test-split data.\n",
    "X_train, X_test, y_train, y_test = train_test_split(X,\n",
    "                                                    y,\n",
    "                                                    test_size = 0.3,\n",
    "                                                    random_state = 42)"
   ]
  },
  {
   "cell_type": "markdown",
   "metadata": {},
   "source": [
    "#### Standardize Data"
   ]
  },
  {
   "cell_type": "code",
   "execution_count": 7,
   "metadata": {},
   "outputs": [],
   "source": [
    "# Instantiate our StandardScaler.\n",
    "ss = StandardScaler()\n",
    "\n",
    "# Standardize X_train.\n",
    "X_train = ss.fit_transform(X_train)\n",
    "\n",
    "# Standardize X_test.\n",
    "X_test = ss.transform(X_test)"
   ]
  },
  {
   "cell_type": "markdown",
   "metadata": {},
   "source": [
    "## Section 2 - Support Vector Regression Model\n",
    "---"
   ]
  },
  {
   "cell_type": "code",
   "execution_count": 8,
   "metadata": {},
   "outputs": [],
   "source": [
    "#From these model parameters, we are going to make a dictionary to save our best parameters\n",
    "#Note that we should NOT re-run this cell, unless we want to create new dataframe of parameters\n",
    "model_params = {}\n",
    "count = 0"
   ]
  },
  {
   "cell_type": "code",
   "execution_count": 9,
   "metadata": {},
   "outputs": [
    {
     "data": {
      "text/plain": [
       "GridSearchCV(cv=5, estimator=SVR(), n_jobs=4,\n",
       "             param_grid={'C': [0.921053], 'degree': [0.5], 'kernel': ['rbf']})"
      ]
     },
     "execution_count": 9,
     "metadata": {},
     "output_type": "execute_result"
    }
   ],
   "source": [
    "# Instantiate and fit a gridsearch model for this SVR\n",
    "svr = SVR()\n",
    "\n",
    "# Create a paramaters grid with best parameters found in previous notebooks\n",
    "p_grid = {\n",
    "    'C':[0.921053],\n",
    "    'kernel':['rbf'], \n",
    "    'degree':[0.5]\n",
    "}\n",
    "\n",
    "# Instantiate a GridSearch \n",
    "gssvr = GridSearchCV(estimator=svr, param_grid=p_grid, cv=5, n_jobs=4)\n",
    "\n",
    "# Fit on training data.\n",
    "gssvr.fit(X_train, y_train)"
   ]
  },
  {
   "cell_type": "code",
   "execution_count": 10,
   "metadata": {},
   "outputs": [
    {
     "data": {
      "text/html": [
       "<div>\n",
       "<style scoped>\n",
       "    .dataframe tbody tr th:only-of-type {\n",
       "        vertical-align: middle;\n",
       "    }\n",
       "\n",
       "    .dataframe tbody tr th {\n",
       "        vertical-align: top;\n",
       "    }\n",
       "\n",
       "    .dataframe thead th {\n",
       "        text-align: right;\n",
       "    }\n",
       "</style>\n",
       "<table border=\"1\" class=\"dataframe\">\n",
       "  <thead>\n",
       "    <tr style=\"text-align: right;\">\n",
       "      <th></th>\n",
       "      <th>C</th>\n",
       "      <th>degree</th>\n",
       "      <th>kernel</th>\n",
       "      <th>score</th>\n",
       "    </tr>\n",
       "  </thead>\n",
       "  <tbody>\n",
       "    <tr>\n",
       "      <th>model_1</th>\n",
       "      <td>0.921053</td>\n",
       "      <td>0.5</td>\n",
       "      <td>rbf</td>\n",
       "      <td>0.32569</td>\n",
       "    </tr>\n",
       "  </tbody>\n",
       "</table>\n",
       "</div>"
      ],
      "text/plain": [
       "                C  degree kernel    score\n",
       "model_1  0.921053     0.5    rbf  0.32569"
      ]
     },
     "execution_count": 10,
     "metadata": {},
     "output_type": "execute_result"
    }
   ],
   "source": [
    "#Create dataframe of best results (best parameters and the respective score)\n",
    "count += 1\n",
    "gssvr.best_params_['score'] = gssvr.best_score_ \n",
    "model_params[f'model_{count}'] = gssvr.best_params_\n",
    "\n",
    "model_df = pd.DataFrame.from_dict(model_params, orient='index')\n",
    "model_df"
   ]
  },
  {
   "cell_type": "code",
   "execution_count": 11,
   "metadata": {},
   "outputs": [
    {
     "name": "stdout",
     "output_type": "stream",
     "text": [
      "Training R-squared: 0.53677\n",
      "Testing R-squared: 0.30905\n"
     ]
    }
   ],
   "source": [
    "#Look at R-squared scores\n",
    "train_score = round(gssvr.score(X_train, y_train), 5)\n",
    "test_score = round(gssvr.score(X_test, y_test), 5)\n",
    "\n",
    "print(f'Training R-squared: {train_score}')\n",
    "print(f'Testing R-squared: {test_score}')"
   ]
  },
  {
   "cell_type": "code",
   "execution_count": 12,
   "metadata": {},
   "outputs": [
    {
     "name": "stdout",
     "output_type": "stream",
     "text": [
      "Baseline RMSE: 1.1321\n"
     ]
    }
   ],
   "source": [
    "#Baseline RMSE (source code leveraged from https://numpy.org/doc/stable/reference/generated/numpy.zeros_like.html)\n",
    "null_pred = np.zeros_like(y_test)\n",
    "null_pred = null_pred + y_test.mean()\n",
    "base_RMSE = round(metrics.mean_squared_error(y_test, null_pred, squared=False), 5)\n",
    "\n",
    "print(f'Baseline RMSE: {base_RMSE}')"
   ]
  },
  {
   "cell_type": "code",
   "execution_count": 13,
   "metadata": {},
   "outputs": [
    {
     "name": "stdout",
     "output_type": "stream",
     "text": [
      "Testing RMSE: 0.94103\n"
     ]
    }
   ],
   "source": [
    "#Create predictions and residuals variables\n",
    "preds = gssvr.predict(X_test)\n",
    "resids = y_test - preds\n",
    "\n",
    "test_RMSE = round(metrics.mean_squared_error(y_test, preds, squared=False), 5)\n",
    "print(f'Testing RMSE: {test_RMSE}')"
   ]
  },
  {
   "cell_type": "code",
   "execution_count": 14,
   "metadata": {},
   "outputs": [
    {
     "name": "stdout",
     "output_type": "stream",
     "text": [
      "Model is 1.203 times better than baseline model\n"
     ]
    }
   ],
   "source": [
    "#How much better is our testing RMSE than baseline RMSE\n",
    "under_base = round(base_RMSE/test_RMSE, 4)\n",
    "print(f'Model is {under_base} times better than baseline model')"
   ]
  },
  {
   "cell_type": "code",
   "execution_count": 15,
   "metadata": {},
   "outputs": [
    {
     "name": "stdout",
     "output_type": "stream",
     "text": [
      "RMSE was reduced by 16.877%\n"
     ]
    }
   ],
   "source": [
    "#How much was our RMSE reduced in percentage terms\n",
    "below_base = round(((base_RMSE - test_RMSE)/base_RMSE)*100, 3)\n",
    "print(f'RMSE was reduced by {below_base}%')"
   ]
  },
  {
   "cell_type": "markdown",
   "metadata": {},
   "source": [
    "### Visualizations\n",
    "---"
   ]
  },
  {
   "cell_type": "code",
   "execution_count": 16,
   "metadata": {},
   "outputs": [
    {
     "data": {
      "image/png": "[encoded data removed]",
      "text/plain": [
       "<Figure size 1152x648 with 1 Axes>"
      ]
     },
     "metadata": {
      "needs_background": "light"
     },
     "output_type": "display_data"
    }
   ],
   "source": [
    "#Plot residuals\n",
    "\n",
    "plt.figure(figsize=(16,9))\n",
    "sns.scatterplot(x=y_test, y=resids)\n",
    "plt.title('Residuals of Predictions', fontsize=20)\n",
    "plt.ylabel('Error');\n",
    "plt.axhline(0, color='r');"
   ]
  },
  {
   "cell_type": "markdown",
   "metadata": {},
   "source": [
    "*Interesting Note*:  The residuals seem to follow a *linear* pattern.  Throughout all the data, the model seems to generally seems to underestimate very poorly ranked movies and very highly ranked movies (e.g. model gives predictions that are more closely centered around the mean)."
   ]
  },
  {
   "cell_type": "code",
   "execution_count": 17,
   "metadata": {},
   "outputs": [
    {
     "data": {
      "image/png": "[encoded data removed]",
      "text/plain": [
       "<Figure size 576x576 with 1 Axes>"
      ]
     },
     "metadata": {
      "needs_background": "light"
     },
     "output_type": "display_data"
    }
   ],
   "source": [
    "plt.figure(figsize=(8,8))\n",
    "plt.title('Actuals vs Predictions', fontsize=20);\n",
    "\n",
    "sns.regplot(x=y_test, y=preds, data=X_test, marker='.');\n",
    "\n",
    "plt.xlim(1.5, 9.5)\n",
    "plt.ylim(1.5, 9.5)\n",
    "plt.xlabel('Actuals', fontsize=12);\n",
    "plt.ylabel('Predictions', fontsize=12);"
   ]
  },
  {
   "cell_type": "markdown",
   "metadata": {},
   "source": [
    "As seen in graph above, our predictions fall in the range of about 4 to 8.5 rating rank.  Although this is a small range as compared to the actual range, it does make sense, as the distribution of actual rating ranks is very steep (e.g. only a very small percentage of movies fall below a 4 or above an 8.5 on the rating rank)."
   ]
  },
  {
   "cell_type": "markdown",
   "metadata": {},
   "source": [
    "### Save predictions to dataframe to be used for Tableau visualization\n",
    "---"
   ]
  },
  {
   "cell_type": "code",
   "execution_count": 24,
   "metadata": {},
   "outputs": [
    {
     "data": {
      "text/html": [
       "<div>\n",
       "<style scoped>\n",
       "    .dataframe tbody tr th:only-of-type {\n",
       "        vertical-align: middle;\n",
       "    }\n",
       "\n",
       "    .dataframe tbody tr th {\n",
       "        vertical-align: top;\n",
       "    }\n",
       "\n",
       "    .dataframe thead th {\n",
       "        text-align: right;\n",
       "    }\n",
       "</style>\n",
       "<table border=\"1\" class=\"dataframe\">\n",
       "  <thead>\n",
       "    <tr style=\"text-align: right;\">\n",
       "      <th></th>\n",
       "      <th>actual_rating</th>\n",
       "      <th>predicted_rating</th>\n",
       "      <th>error</th>\n",
       "      <th>abs_error</th>\n",
       "      <th>MovieID</th>\n",
       "      <th>IDSubtitleFile</th>\n",
       "      <th>IDSubtitle</th>\n",
       "      <th>MovieName</th>\n",
       "      <th>MovieYear</th>\n",
       "      <th>SubDownloadsCnt</th>\n",
       "      <th>...</th>\n",
       "      <th>Relig-ratio</th>\n",
       "      <th>Death</th>\n",
       "      <th>Death-ratio</th>\n",
       "      <th>Informal</th>\n",
       "      <th>Informal-ratio</th>\n",
       "      <th>Swear</th>\n",
       "      <th>Swear-ratio</th>\n",
       "      <th>Filler</th>\n",
       "      <th>Filler-ratio</th>\n",
       "      <th>years_old</th>\n",
       "    </tr>\n",
       "  </thead>\n",
       "  <tbody>\n",
       "    <tr>\n",
       "      <th>3355</th>\n",
       "      <td>7.2</td>\n",
       "      <td>5.809059</td>\n",
       "      <td>1.390941</td>\n",
       "      <td>1.390941</td>\n",
       "      <td>3352</td>\n",
       "      <td>1952926839</td>\n",
       "      <td>4238219</td>\n",
       "      <td>Three Kings</td>\n",
       "      <td>1999</td>\n",
       "      <td>1385</td>\n",
       "      <td>...</td>\n",
       "      <td>0.005669</td>\n",
       "      <td>45</td>\n",
       "      <td>0.004638</td>\n",
       "      <td>379</td>\n",
       "      <td>0.039064</td>\n",
       "      <td>114</td>\n",
       "      <td>0.011750</td>\n",
       "      <td>6</td>\n",
       "      <td>0.000618</td>\n",
       "      <td>22</td>\n",
       "    </tr>\n",
       "    <tr>\n",
       "      <th>2405</th>\n",
       "      <td>5.5</td>\n",
       "      <td>6.277208</td>\n",
       "      <td>-0.777208</td>\n",
       "      <td>0.777208</td>\n",
       "      <td>46176</td>\n",
       "      <td>1952700577</td>\n",
       "      <td>4026114</td>\n",
       "      <td>Fighting</td>\n",
       "      <td>2009</td>\n",
       "      <td>414</td>\n",
       "      <td>...</td>\n",
       "      <td>0.001432</td>\n",
       "      <td>10</td>\n",
       "      <td>0.000955</td>\n",
       "      <td>497</td>\n",
       "      <td>0.047455</td>\n",
       "      <td>49</td>\n",
       "      <td>0.004679</td>\n",
       "      <td>4</td>\n",
       "      <td>0.000382</td>\n",
       "      <td>12</td>\n",
       "    </tr>\n",
       "    <tr>\n",
       "      <th>4373</th>\n",
       "      <td>6.4</td>\n",
       "      <td>5.725811</td>\n",
       "      <td>0.674189</td>\n",
       "      <td>0.674189</td>\n",
       "      <td>1644</td>\n",
       "      <td>1951715354</td>\n",
       "      <td>3164024</td>\n",
       "      <td>Terminator 3: Rise of the Machines</td>\n",
       "      <td>2003</td>\n",
       "      <td>3769</td>\n",
       "      <td>...</td>\n",
       "      <td>0.004781</td>\n",
       "      <td>31</td>\n",
       "      <td>0.007058</td>\n",
       "      <td>100</td>\n",
       "      <td>0.022769</td>\n",
       "      <td>32</td>\n",
       "      <td>0.007286</td>\n",
       "      <td>0</td>\n",
       "      <td>0.000000</td>\n",
       "      <td>18</td>\n",
       "    </tr>\n",
       "    <tr>\n",
       "      <th>107</th>\n",
       "      <td>6.3</td>\n",
       "      <td>6.511264</td>\n",
       "      <td>-0.211264</td>\n",
       "      <td>0.211264</td>\n",
       "      <td>68768</td>\n",
       "      <td>1953201315</td>\n",
       "      <td>4654067</td>\n",
       "      <td>Cars 2</td>\n",
       "      <td>2011</td>\n",
       "      <td>2024</td>\n",
       "      <td>...</td>\n",
       "      <td>0.000306</td>\n",
       "      <td>24</td>\n",
       "      <td>0.002448</td>\n",
       "      <td>342</td>\n",
       "      <td>0.034891</td>\n",
       "      <td>6</td>\n",
       "      <td>0.000612</td>\n",
       "      <td>26</td>\n",
       "      <td>0.002653</td>\n",
       "      <td>10</td>\n",
       "    </tr>\n",
       "    <tr>\n",
       "      <th>5028</th>\n",
       "      <td>6.0</td>\n",
       "      <td>5.476119</td>\n",
       "      <td>0.523881</td>\n",
       "      <td>0.523881</td>\n",
       "      <td>28875</td>\n",
       "      <td>1951705741</td>\n",
       "      <td>3156610</td>\n",
       "      <td>Black Water</td>\n",
       "      <td>2007</td>\n",
       "      <td>4201</td>\n",
       "      <td>...</td>\n",
       "      <td>0.003593</td>\n",
       "      <td>4</td>\n",
       "      <td>0.001437</td>\n",
       "      <td>135</td>\n",
       "      <td>0.048509</td>\n",
       "      <td>22</td>\n",
       "      <td>0.007905</td>\n",
       "      <td>0</td>\n",
       "      <td>0.000000</td>\n",
       "      <td>14</td>\n",
       "    </tr>\n",
       "  </tbody>\n",
       "</table>\n",
       "<p>5 rows × 112 columns</p>\n",
       "</div>"
      ],
      "text/plain": [
       "      actual_rating  predicted_rating     error  abs_error  MovieID  \\\n",
       "3355            7.2          5.809059  1.390941   1.390941     3352   \n",
       "2405            5.5          6.277208 -0.777208   0.777208    46176   \n",
       "4373            6.4          5.725811  0.674189   0.674189     1644   \n",
       "107             6.3          6.511264 -0.211264   0.211264    68768   \n",
       "5028            6.0          5.476119  0.523881   0.523881    28875   \n",
       "\n",
       "      IDSubtitleFile  IDSubtitle                           MovieName  \\\n",
       "3355      1952926839     4238219                         Three Kings   \n",
       "2405      1952700577     4026114                            Fighting   \n",
       "4373      1951715354     3164024  Terminator 3: Rise of the Machines   \n",
       "107       1953201315     4654067                              Cars 2   \n",
       "5028      1951705741     3156610                         Black Water   \n",
       "\n",
       "      MovieYear  SubDownloadsCnt  ...  Relig-ratio  Death  Death-ratio  \\\n",
       "3355       1999             1385  ...     0.005669     45     0.004638   \n",
       "2405       2009              414  ...     0.001432     10     0.000955   \n",
       "4373       2003             3769  ...     0.004781     31     0.007058   \n",
       "107        2011             2024  ...     0.000306     24     0.002448   \n",
       "5028       2007             4201  ...     0.003593      4     0.001437   \n",
       "\n",
       "      Informal  Informal-ratio  Swear  Swear-ratio  Filler  Filler-ratio  \\\n",
       "3355       379        0.039064    114     0.011750       6      0.000618   \n",
       "2405       497        0.047455     49     0.004679       4      0.000382   \n",
       "4373       100        0.022769     32     0.007286       0      0.000000   \n",
       "107        342        0.034891      6     0.000612      26      0.002653   \n",
       "5028       135        0.048509     22     0.007905       0      0.000000   \n",
       "\n",
       "      years_old  \n",
       "3355         22  \n",
       "2405         12  \n",
       "4373         18  \n",
       "107          10  \n",
       "5028         14  \n",
       "\n",
       "[5 rows x 112 columns]"
      ]
     },
     "execution_count": 24,
     "metadata": {},
     "output_type": "execute_result"
    }
   ],
   "source": [
    "#Create dataframe, starting with y_test (actual rating rank) column\n",
    "df_y_test = pd.DataFrame(data=y_test)\n",
    "df_y_test = df_y_test.rename({'rating_rank' : 'actual_rating'}, axis = 1)\n",
    "\n",
    "#Append a predicted rating rank column with our predictions variable\n",
    "df_y_test['predicted_rating'] = preds\n",
    "\n",
    "#Append a residuals (error) column, with absolute amount as well\n",
    "df_y_test['error'] = df_y_test['actual_rating'] - df_y_test['predicted_rating']\n",
    "df_y_test['abs_error'] = abs(df_y_test['actual_rating'] - df_y_test['predicted_rating'])\n",
    "\n",
    "#Create final predictions dataframe by joining on the index\n",
    "predictions_df = df_y_test.join(df, on=df_y_test.index)\n",
    "predictions_df.head()"
   ]
  },
  {
   "cell_type": "code",
   "execution_count": 25,
   "metadata": {},
   "outputs": [
    {
     "data": {
      "text/plain": [
       "Series([], dtype: float64)"
      ]
     },
     "execution_count": 25,
     "metadata": {},
     "output_type": "execute_result"
    }
   ],
   "source": [
    "#Double check there are no null values in joined dataframe\n",
    "nan_cols = [i for i in predictions_df if predictions_df[i].isnull().any()]\n",
    "predictions_df[nan_cols].isnull().sum()"
   ]
  },
  {
   "cell_type": "code",
   "execution_count": 27,
   "metadata": {},
   "outputs": [],
   "source": [
    "#Save dataframe to project foler\n",
    "#predictions_df.to_excel('./Excels/predictions_df.xlsx')"
   ]
  },
  {
   "cell_type": "code",
   "execution_count": null,
   "metadata": {},
   "outputs": [],
   "source": []
  }
 ],
 "metadata": {
  "kernelspec": {
   "display_name": "Python 3",
   "language": "python",
   "name": "python3"
  },
  "language_info": {
   "codemirror_mode": {
    "name": "ipython",
    "version": 3
   },
   "file_extension": ".py",
   "mimetype": "text/x-python",
   "name": "python",
   "nbconvert_exporter": "python",
   "pygments_lexer": "ipython3",
   "version": "3.8.3"
  }
 },
 "nbformat": 4,
 "nbformat_minor": 4
}
